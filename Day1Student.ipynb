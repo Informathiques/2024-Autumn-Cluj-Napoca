{
  "nbformat": 4,
  "nbformat_minor": 0,
  "metadata": {
    "colab": {
      "provenance": [],
      "authorship_tag": "ABX9TyPJv/7G1Cnpn0TJFP+AKM8v",
      "include_colab_link": true
    },
    "kernelspec": {
      "name": "python3",
      "display_name": "Python 3"
    },
    "language_info": {
      "name": "python"
    },
    "widgets": {
      "application/vnd.jupyter.widget-state+json": {
        "e4c9006f1cc24bdf83bd6dc664f55f34": {
          "model_module": "@jupyter-widgets/controls",
          "model_name": "VBoxModel",
          "model_module_version": "1.5.0",
          "state": {
            "_dom_classes": [],
            "_model_module": "@jupyter-widgets/controls",
            "_model_module_version": "1.5.0",
            "_model_name": "VBoxModel",
            "_view_count": null,
            "_view_module": "@jupyter-widgets/controls",
            "_view_module_version": "1.5.0",
            "_view_name": "VBoxView",
            "box_style": "",
            "children": [
              "IPY_MODEL_b2f5ba4c94ee418b926bcea90a45992e",
              "IPY_MODEL_17cbd9f2b2eb4af6a3e70308729f619c",
              "IPY_MODEL_fc96bedcf07041a7a83a6b0f4744585a",
              "IPY_MODEL_2c5c51c8861d4891b270c44a349e0801",
              "IPY_MODEL_7346d73673b74d2cac662a3bddc59415",
              "IPY_MODEL_6a1e27de4b6e425eaace07a1b182cabb",
              "IPY_MODEL_4274ff7626bb453884188833c1db1c88"
            ],
            "layout": "IPY_MODEL_d65dbb9ba47b47eba8c40c63860f3ca7"
          }
        },
        "b2f5ba4c94ee418b926bcea90a45992e": {
          "model_module": "@jupyter-widgets/controls",
          "model_name": "TextModel",
          "model_module_version": "1.5.0",
          "state": {
            "_dom_classes": [],
            "_model_module": "@jupyter-widgets/controls",
            "_model_module_version": "1.5.0",
            "_model_name": "TextModel",
            "_view_count": null,
            "_view_module": "@jupyter-widgets/controls",
            "_view_module_version": "1.5.0",
            "_view_name": "TextView",
            "continuous_update": true,
            "description": "First Name  ",
            "description_tooltip": null,
            "disabled": true,
            "layout": "IPY_MODEL_1bb779c08d3841d3b0fd19b6c752b54d",
            "placeholder": "​",
            "style": "IPY_MODEL_2ad919b9cf2049e28f3587c0a0ffde72",
            "value": "current_user_id"
          }
        },
        "17cbd9f2b2eb4af6a3e70308729f619c": {
          "model_module": "@jupyter-widgets/controls",
          "model_name": "TextModel",
          "model_module_version": "1.5.0",
          "state": {
            "_dom_classes": [],
            "_model_module": "@jupyter-widgets/controls",
            "_model_module_version": "1.5.0",
            "_model_name": "TextModel",
            "_view_count": null,
            "_view_module": "@jupyter-widgets/controls",
            "_view_module_version": "1.5.0",
            "_view_name": "TextView",
            "continuous_update": true,
            "description": "Second Name",
            "description_tooltip": null,
            "disabled": true,
            "layout": "IPY_MODEL_1bb779c08d3841d3b0fd19b6c752b54d",
            "placeholder": "​",
            "style": "IPY_MODEL_5d499945214b43709fd66208e4a44354",
            "value": "current_user_id"
          }
        },
        "fc96bedcf07041a7a83a6b0f4744585a": {
          "model_module": "@jupyter-widgets/controls",
          "model_name": "BoundedFloatTextModel",
          "model_module_version": "1.5.0",
          "state": {
            "_dom_classes": [],
            "_model_module": "@jupyter-widgets/controls",
            "_model_module_version": "1.5.0",
            "_model_name": "BoundedFloatTextModel",
            "_view_count": null,
            "_view_module": "@jupyter-widgets/controls",
            "_view_module_version": "1.5.0",
            "_view_name": "FloatTextView",
            "continuous_update": false,
            "description": "Height (cm)",
            "description_tooltip": null,
            "disabled": true,
            "layout": "IPY_MODEL_1bb779c08d3841d3b0fd19b6c752b54d",
            "max": 300,
            "min": 100,
            "step": null,
            "style": "IPY_MODEL_0ac1179d67934943859063d9060dff72",
            "value": 150
          }
        },
        "2c5c51c8861d4891b270c44a349e0801": {
          "model_module": "@jupyter-widgets/controls",
          "model_name": "HBoxModel",
          "model_module_version": "1.5.0",
          "state": {
            "_dom_classes": [],
            "_model_module": "@jupyter-widgets/controls",
            "_model_module_version": "1.5.0",
            "_model_name": "HBoxModel",
            "_view_count": null,
            "_view_module": "@jupyter-widgets/controls",
            "_view_module_version": "1.5.0",
            "_view_name": "HBoxView",
            "box_style": "",
            "children": [
              "IPY_MODEL_14adc67fbe3b4b92b2b78023cec3d71c",
              "IPY_MODEL_067b65a93ff646b689e2dd45fffb6582"
            ],
            "layout": "IPY_MODEL_8a6ee8f5dcc84ada9f126e6b3f50041b"
          }
        },
        "7346d73673b74d2cac662a3bddc59415": {
          "model_module": "@jupyter-widgets/controls",
          "model_name": "ButtonModel",
          "model_module_version": "1.5.0",
          "state": {
            "_dom_classes": [],
            "_model_module": "@jupyter-widgets/controls",
            "_model_module_version": "1.5.0",
            "_model_name": "ButtonModel",
            "_view_count": null,
            "_view_module": "@jupyter-widgets/controls",
            "_view_module_version": "1.5.0",
            "_view_name": "ButtonView",
            "button_style": "",
            "description": "Submit",
            "disabled": true,
            "icon": "",
            "layout": "IPY_MODEL_eca3bdf646ff453485e4648f225f2c6f",
            "style": "IPY_MODEL_e9cf5875e27d4976a2e6df07b81c3a01",
            "tooltip": ""
          }
        },
        "6a1e27de4b6e425eaace07a1b182cabb": {
          "model_module": "@jupyter-widgets/controls",
          "model_name": "ButtonModel",
          "model_module_version": "1.5.0",
          "state": {
            "_dom_classes": [],
            "_model_module": "@jupyter-widgets/controls",
            "_model_module_version": "1.5.0",
            "_model_name": "ButtonModel",
            "_view_count": null,
            "_view_module": "@jupyter-widgets/controls",
            "_view_module_version": "1.5.0",
            "_view_name": "ButtonView",
            "button_style": "",
            "description": "Edit",
            "disabled": false,
            "icon": "",
            "layout": "IPY_MODEL_bd4188ed29e54ebdaec2ff9f83a1ec63",
            "style": "IPY_MODEL_e9cf5875e27d4976a2e6df07b81c3a01",
            "tooltip": ""
          }
        },
        "4274ff7626bb453884188833c1db1c88": {
          "model_module": "@jupyter-widgets/output",
          "model_name": "OutputModel",
          "model_module_version": "1.0.0",
          "state": {
            "_dom_classes": [],
            "_model_module": "@jupyter-widgets/output",
            "_model_module_version": "1.0.0",
            "_model_name": "OutputModel",
            "_view_count": null,
            "_view_module": "@jupyter-widgets/output",
            "_view_module_version": "1.0.0",
            "_view_name": "OutputView",
            "layout": "IPY_MODEL_02cdc8e81bd34376a85213695bc3d031",
            "msg_id": "",
            "outputs": [
              {
                "output_type": "stream",
                "name": "stdout",
                "text": [
                  "User current_user_id current_user_id added to the database.\n"
                ]
              }
            ]
          }
        },
        "d65dbb9ba47b47eba8c40c63860f3ca7": {
          "model_module": "@jupyter-widgets/base",
          "model_name": "LayoutModel",
          "model_module_version": "1.2.0",
          "state": {
            "_model_module": "@jupyter-widgets/base",
            "_model_module_version": "1.2.0",
            "_model_name": "LayoutModel",
            "_view_count": null,
            "_view_module": "@jupyter-widgets/base",
            "_view_module_version": "1.2.0",
            "_view_name": "LayoutView",
            "align_content": null,
            "align_items": null,
            "align_self": null,
            "border": null,
            "bottom": null,
            "display": null,
            "flex": null,
            "flex_flow": null,
            "grid_area": null,
            "grid_auto_columns": null,
            "grid_auto_flow": null,
            "grid_auto_rows": null,
            "grid_column": null,
            "grid_gap": null,
            "grid_row": null,
            "grid_template_areas": null,
            "grid_template_columns": null,
            "grid_template_rows": null,
            "height": null,
            "justify_content": null,
            "justify_items": null,
            "left": null,
            "margin": null,
            "max_height": null,
            "max_width": null,
            "min_height": null,
            "min_width": null,
            "object_fit": null,
            "object_position": null,
            "order": null,
            "overflow": null,
            "overflow_x": null,
            "overflow_y": null,
            "padding": null,
            "right": null,
            "top": null,
            "visibility": null,
            "width": null
          }
        },
        "1bb779c08d3841d3b0fd19b6c752b54d": {
          "model_module": "@jupyter-widgets/base",
          "model_name": "LayoutModel",
          "model_module_version": "1.2.0",
          "state": {
            "_model_module": "@jupyter-widgets/base",
            "_model_module_version": "1.2.0",
            "_model_name": "LayoutModel",
            "_view_count": null,
            "_view_module": "@jupyter-widgets/base",
            "_view_module_version": "1.2.0",
            "_view_name": "LayoutView",
            "align_content": null,
            "align_items": null,
            "align_self": null,
            "border": null,
            "bottom": null,
            "display": null,
            "flex": null,
            "flex_flow": null,
            "grid_area": null,
            "grid_auto_columns": null,
            "grid_auto_flow": null,
            "grid_auto_rows": null,
            "grid_column": null,
            "grid_gap": null,
            "grid_row": null,
            "grid_template_areas": null,
            "grid_template_columns": null,
            "grid_template_rows": null,
            "height": "30px",
            "justify_content": null,
            "justify_items": null,
            "left": null,
            "margin": null,
            "max_height": null,
            "max_width": null,
            "min_height": null,
            "min_width": null,
            "object_fit": null,
            "object_position": null,
            "order": null,
            "overflow": null,
            "overflow_x": null,
            "overflow_y": null,
            "padding": null,
            "right": null,
            "top": null,
            "visibility": null,
            "width": "300px"
          }
        },
        "2ad919b9cf2049e28f3587c0a0ffde72": {
          "model_module": "@jupyter-widgets/controls",
          "model_name": "DescriptionStyleModel",
          "model_module_version": "1.5.0",
          "state": {
            "_model_module": "@jupyter-widgets/controls",
            "_model_module_version": "1.5.0",
            "_model_name": "DescriptionStyleModel",
            "_view_count": null,
            "_view_module": "@jupyter-widgets/base",
            "_view_module_version": "1.2.0",
            "_view_name": "StyleView",
            "description_width": ""
          }
        },
        "5d499945214b43709fd66208e4a44354": {
          "model_module": "@jupyter-widgets/controls",
          "model_name": "DescriptionStyleModel",
          "model_module_version": "1.5.0",
          "state": {
            "_model_module": "@jupyter-widgets/controls",
            "_model_module_version": "1.5.0",
            "_model_name": "DescriptionStyleModel",
            "_view_count": null,
            "_view_module": "@jupyter-widgets/base",
            "_view_module_version": "1.2.0",
            "_view_name": "StyleView",
            "description_width": ""
          }
        },
        "0ac1179d67934943859063d9060dff72": {
          "model_module": "@jupyter-widgets/controls",
          "model_name": "DescriptionStyleModel",
          "model_module_version": "1.5.0",
          "state": {
            "_model_module": "@jupyter-widgets/controls",
            "_model_module_version": "1.5.0",
            "_model_name": "DescriptionStyleModel",
            "_view_count": null,
            "_view_module": "@jupyter-widgets/base",
            "_view_module_version": "1.2.0",
            "_view_name": "StyleView",
            "description_width": ""
          }
        },
        "14adc67fbe3b4b92b2b78023cec3d71c": {
          "model_module": "@jupyter-widgets/controls",
          "model_name": "RadioButtonsModel",
          "model_module_version": "1.5.0",
          "state": {
            "_dom_classes": [],
            "_model_module": "@jupyter-widgets/controls",
            "_model_module_version": "1.5.0",
            "_model_name": "RadioButtonsModel",
            "_options_labels": [
              "Male",
              "Female"
            ],
            "_view_count": null,
            "_view_module": "@jupyter-widgets/controls",
            "_view_module_version": "1.5.0",
            "_view_name": "RadioButtonsView",
            "description": "Gender",
            "description_tooltip": null,
            "disabled": true,
            "index": 1,
            "layout": "IPY_MODEL_ea375761032e4acbafba6a4bc39e9745",
            "style": "IPY_MODEL_7f80ffc072164d8d9f08f1e07826b925"
          }
        },
        "067b65a93ff646b689e2dd45fffb6582": {
          "model_module": "@jupyter-widgets/controls",
          "model_name": "DatePickerModel",
          "model_module_version": "1.5.0",
          "state": {
            "_dom_classes": [],
            "_model_module": "@jupyter-widgets/controls",
            "_model_module_version": "1.5.0",
            "_model_name": "DatePickerModel",
            "_view_count": null,
            "_view_module": "@jupyter-widgets/controls",
            "_view_module_version": "1.5.0",
            "_view_name": "DatePickerView",
            "description": "Date of Birth",
            "description_tooltip": null,
            "disabled": true,
            "layout": "IPY_MODEL_1bb779c08d3841d3b0fd19b6c752b54d",
            "style": "IPY_MODEL_73cfa82067ac482bbe354c84dfac4378",
            "value": {
              "year": 2009,
              "month": 1,
              "date": 2
            }
          }
        },
        "8a6ee8f5dcc84ada9f126e6b3f50041b": {
          "model_module": "@jupyter-widgets/base",
          "model_name": "LayoutModel",
          "model_module_version": "1.2.0",
          "state": {
            "_model_module": "@jupyter-widgets/base",
            "_model_module_version": "1.2.0",
            "_model_name": "LayoutModel",
            "_view_count": null,
            "_view_module": "@jupyter-widgets/base",
            "_view_module_version": "1.2.0",
            "_view_name": "LayoutView",
            "align_content": null,
            "align_items": null,
            "align_self": null,
            "border": null,
            "bottom": null,
            "display": null,
            "flex": null,
            "flex_flow": null,
            "grid_area": null,
            "grid_auto_columns": null,
            "grid_auto_flow": null,
            "grid_auto_rows": null,
            "grid_column": null,
            "grid_gap": null,
            "grid_row": null,
            "grid_template_areas": null,
            "grid_template_columns": null,
            "grid_template_rows": null,
            "height": null,
            "justify_content": null,
            "justify_items": null,
            "left": null,
            "margin": null,
            "max_height": null,
            "max_width": null,
            "min_height": null,
            "min_width": null,
            "object_fit": null,
            "object_position": null,
            "order": null,
            "overflow": null,
            "overflow_x": null,
            "overflow_y": null,
            "padding": null,
            "right": null,
            "top": null,
            "visibility": null,
            "width": null
          }
        },
        "eca3bdf646ff453485e4648f225f2c6f": {
          "model_module": "@jupyter-widgets/base",
          "model_name": "LayoutModel",
          "model_module_version": "1.2.0",
          "state": {
            "_model_module": "@jupyter-widgets/base",
            "_model_module_version": "1.2.0",
            "_model_name": "LayoutModel",
            "_view_count": null,
            "_view_module": "@jupyter-widgets/base",
            "_view_module_version": "1.2.0",
            "_view_name": "LayoutView",
            "align_content": null,
            "align_items": null,
            "align_self": null,
            "border": null,
            "bottom": null,
            "display": null,
            "flex": null,
            "flex_flow": null,
            "grid_area": null,
            "grid_auto_columns": null,
            "grid_auto_flow": null,
            "grid_auto_rows": null,
            "grid_column": null,
            "grid_gap": null,
            "grid_row": null,
            "grid_template_areas": null,
            "grid_template_columns": null,
            "grid_template_rows": null,
            "height": "40px",
            "justify_content": null,
            "justify_items": null,
            "left": null,
            "margin": null,
            "max_height": null,
            "max_width": null,
            "min_height": null,
            "min_width": null,
            "object_fit": null,
            "object_position": null,
            "order": null,
            "overflow": null,
            "overflow_x": null,
            "overflow_y": null,
            "padding": null,
            "right": null,
            "top": null,
            "visibility": null,
            "width": "150px"
          }
        },
        "e9cf5875e27d4976a2e6df07b81c3a01": {
          "model_module": "@jupyter-widgets/controls",
          "model_name": "ButtonStyleModel",
          "model_module_version": "1.5.0",
          "state": {
            "_model_module": "@jupyter-widgets/controls",
            "_model_module_version": "1.5.0",
            "_model_name": "ButtonStyleModel",
            "_view_count": null,
            "_view_module": "@jupyter-widgets/base",
            "_view_module_version": "1.2.0",
            "_view_name": "StyleView",
            "button_color": "lightblue",
            "font_weight": ""
          }
        },
        "bd4188ed29e54ebdaec2ff9f83a1ec63": {
          "model_module": "@jupyter-widgets/base",
          "model_name": "LayoutModel",
          "model_module_version": "1.2.0",
          "state": {
            "_model_module": "@jupyter-widgets/base",
            "_model_module_version": "1.2.0",
            "_model_name": "LayoutModel",
            "_view_count": null,
            "_view_module": "@jupyter-widgets/base",
            "_view_module_version": "1.2.0",
            "_view_name": "LayoutView",
            "align_content": null,
            "align_items": null,
            "align_self": null,
            "border": null,
            "bottom": null,
            "display": null,
            "flex": null,
            "flex_flow": null,
            "grid_area": null,
            "grid_auto_columns": null,
            "grid_auto_flow": null,
            "grid_auto_rows": null,
            "grid_column": null,
            "grid_gap": null,
            "grid_row": null,
            "grid_template_areas": null,
            "grid_template_columns": null,
            "grid_template_rows": null,
            "height": "40px",
            "justify_content": null,
            "justify_items": null,
            "left": null,
            "margin": null,
            "max_height": null,
            "max_width": null,
            "min_height": null,
            "min_width": null,
            "object_fit": null,
            "object_position": null,
            "order": null,
            "overflow": null,
            "overflow_x": null,
            "overflow_y": null,
            "padding": null,
            "right": null,
            "top": null,
            "visibility": null,
            "width": "150px"
          }
        },
        "ea375761032e4acbafba6a4bc39e9745": {
          "model_module": "@jupyter-widgets/base",
          "model_name": "LayoutModel",
          "model_module_version": "1.2.0",
          "state": {
            "_model_module": "@jupyter-widgets/base",
            "_model_module_version": "1.2.0",
            "_model_name": "LayoutModel",
            "_view_count": null,
            "_view_module": "@jupyter-widgets/base",
            "_view_module_version": "1.2.0",
            "_view_name": "LayoutView",
            "align_content": null,
            "align_items": null,
            "align_self": null,
            "border": null,
            "bottom": null,
            "display": null,
            "flex": null,
            "flex_flow": null,
            "grid_area": null,
            "grid_auto_columns": null,
            "grid_auto_flow": null,
            "grid_auto_rows": null,
            "grid_column": null,
            "grid_gap": null,
            "grid_row": null,
            "grid_template_areas": null,
            "grid_template_columns": null,
            "grid_template_rows": null,
            "height": null,
            "justify_content": null,
            "justify_items": null,
            "left": null,
            "margin": null,
            "max_height": null,
            "max_width": null,
            "min_height": null,
            "min_width": null,
            "object_fit": null,
            "object_position": null,
            "order": null,
            "overflow": null,
            "overflow_x": null,
            "overflow_y": null,
            "padding": null,
            "right": null,
            "top": null,
            "visibility": null,
            "width": "auto"
          }
        },
        "7f80ffc072164d8d9f08f1e07826b925": {
          "model_module": "@jupyter-widgets/controls",
          "model_name": "DescriptionStyleModel",
          "model_module_version": "1.5.0",
          "state": {
            "_model_module": "@jupyter-widgets/controls",
            "_model_module_version": "1.5.0",
            "_model_name": "DescriptionStyleModel",
            "_view_count": null,
            "_view_module": "@jupyter-widgets/base",
            "_view_module_version": "1.2.0",
            "_view_name": "StyleView",
            "description_width": ""
          }
        },
        "73cfa82067ac482bbe354c84dfac4378": {
          "model_module": "@jupyter-widgets/controls",
          "model_name": "DescriptionStyleModel",
          "model_module_version": "1.5.0",
          "state": {
            "_model_module": "@jupyter-widgets/controls",
            "_model_module_version": "1.5.0",
            "_model_name": "DescriptionStyleModel",
            "_view_count": null,
            "_view_module": "@jupyter-widgets/base",
            "_view_module_version": "1.2.0",
            "_view_name": "StyleView",
            "description_width": ""
          }
        },
        "02cdc8e81bd34376a85213695bc3d031": {
          "model_module": "@jupyter-widgets/base",
          "model_name": "LayoutModel",
          "model_module_version": "1.2.0",
          "state": {
            "_model_module": "@jupyter-widgets/base",
            "_model_module_version": "1.2.0",
            "_model_name": "LayoutModel",
            "_view_count": null,
            "_view_module": "@jupyter-widgets/base",
            "_view_module_version": "1.2.0",
            "_view_name": "LayoutView",
            "align_content": null,
            "align_items": null,
            "align_self": null,
            "border": null,
            "bottom": null,
            "display": null,
            "flex": null,
            "flex_flow": null,
            "grid_area": null,
            "grid_auto_columns": null,
            "grid_auto_flow": null,
            "grid_auto_rows": null,
            "grid_column": null,
            "grid_gap": null,
            "grid_row": null,
            "grid_template_areas": null,
            "grid_template_columns": null,
            "grid_template_rows": null,
            "height": null,
            "justify_content": null,
            "justify_items": null,
            "left": null,
            "margin": null,
            "max_height": null,
            "max_width": null,
            "min_height": null,
            "min_width": null,
            "object_fit": null,
            "object_position": null,
            "order": null,
            "overflow": null,
            "overflow_x": null,
            "overflow_y": null,
            "padding": null,
            "right": null,
            "top": null,
            "visibility": null,
            "width": null
          }
        }
      }
    }
  },
  "cells": [
    {
      "cell_type": "markdown",
      "metadata": {
        "id": "view-in-github",
        "colab_type": "text"
      },
      "source": [
        "<a href=\"https://colab.research.google.com/github/Informathiques/2024-Autumn-Cluj-Napoca/blob/main/Day1Student.ipynb\" target=\"_parent\"><img src=\"https://colab.research.google.com/assets/colab-badge.svg\" alt=\"Open In Colab\"/></a>"
      ]
    },
    {
      "cell_type": "markdown",
      "source": [
        "# Initialisation"
      ],
      "metadata": {
        "id": "_6O6j6V2cxdS"
      }
    },
    {
      "cell_type": "code",
      "source": [
        "# @title\n",
        "!pip install pymongo[srv] > /dev/null 2>&1\n",
        "\n",
        "from google.colab import userdata\n",
        "import os\n",
        "import base64\n",
        "\n",
        "import pymongo\n",
        "from pymongo import MongoClient\n",
        "\n",
        "from IPython.display import display, clear_output\n",
        "from datetime import datetime\n",
        "import ipywidgets as widgets\n",
        "\n",
        "import matplotlib.pyplot as plt\n",
        "\n",
        "# Base64-encoded MongoDB URI (fallback option)\n",
        "encoded_uri = \"bW9uZ29kYitzcnY6Ly9pbmZyb21hdGhpcXVlczpkRk91WTZYaWFRNjhxeE5KQGluZm9ybWF0aGlxdWVzLjgzanFlLm1vbmdvZGIubmV0Lz9yZXRyeVdyaXRlcz10cnVlJnc9bWFqb3JpdHkmc3NsPXRydWUmdGxzQWxsb3dJbnZhbGlkQ2VydGlmaWNhdGVzPXRydWU=\"\n",
        "\n",
        "# Step 1: Try to get the MongoDB URI from the environment variable (SMONGO_URI)\n",
        "try:\n",
        "    MONGO_URI = os.getenv(\"SMONGO_URI\")\n",
        "    if not MONGO_URI:\n",
        "        raise ValueError(\"SMONGO_URI not found or is empty.\")\n",
        "except (KeyError, ValueError, Exception) as e:\n",
        "    #print(f\"Environment variable 'SMONGO_URI' is missing or cannot be accessed: {e}\")\n",
        "    #print(\"Falling back to the base64-encoded URI...\")\n",
        "    # Step 2: Decode the base64-encoded URI as fallback\n",
        "    MONGO_URI = base64.b64decode(encoded_uri).decode('utf-8')\n",
        "\n",
        "# fetch data from MongoDB and return it as a list\n",
        "def fetch_data():\n",
        "    users = collection.find()\n",
        "    data = []\n",
        "    for user in users:\n",
        "        data.append({\n",
        "            'First Name': user['First Name'],\n",
        "            'Second Name': user['Second Name'],\n",
        "            'Height': user['Height'],\n",
        "            'Gender': user['Gender'],\n",
        "            'Date of Birth': user['Date of Birth'],\n",
        "            '_id': user['_id']\n",
        "        })\n",
        "    return data\n",
        "\n",
        "client = MongoClient(MONGO_URI)\n",
        "db = client[\"myDatabase\"]  # Database name\n",
        "collection = db[\"users\"]  # Collection name\n",
        "print(\"Succes on initialisation. Continue\")"
      ],
      "metadata": {
        "id": "ur_apzAdN7Ei",
        "colab": {
          "base_uri": "https://localhost:8080/"
        },
        "outputId": "51869e6a-7b84-4b38-803d-7477b21171cc",
        "cellView": "form"
      },
      "execution_count": null,
      "outputs": [
        {
          "output_type": "stream",
          "name": "stdout",
          "text": [
            "Succes on initialisation. Continue\n"
          ]
        }
      ]
    },
    {
      "cell_type": "markdown",
      "source": [
        "# Data form, enter and submit\n",
        "\n",
        "---\n",
        "\n"
      ],
      "metadata": {
        "id": "9zZkz-12c6Z6"
      }
    },
    {
      "cell_type": "code",
      "execution_count": null,
      "metadata": {
        "colab": {
          "base_uri": "https://localhost:8080/",
          "height": 288,
          "referenced_widgets": [
            "e4c9006f1cc24bdf83bd6dc664f55f34",
            "b2f5ba4c94ee418b926bcea90a45992e",
            "17cbd9f2b2eb4af6a3e70308729f619c",
            "fc96bedcf07041a7a83a6b0f4744585a",
            "2c5c51c8861d4891b270c44a349e0801",
            "7346d73673b74d2cac662a3bddc59415",
            "6a1e27de4b6e425eaace07a1b182cabb",
            "4274ff7626bb453884188833c1db1c88",
            "d65dbb9ba47b47eba8c40c63860f3ca7",
            "1bb779c08d3841d3b0fd19b6c752b54d",
            "2ad919b9cf2049e28f3587c0a0ffde72",
            "5d499945214b43709fd66208e4a44354",
            "0ac1179d67934943859063d9060dff72",
            "14adc67fbe3b4b92b2b78023cec3d71c",
            "067b65a93ff646b689e2dd45fffb6582",
            "8a6ee8f5dcc84ada9f126e6b3f50041b",
            "eca3bdf646ff453485e4648f225f2c6f",
            "e9cf5875e27d4976a2e6df07b81c3a01",
            "bd4188ed29e54ebdaec2ff9f83a1ec63",
            "ea375761032e4acbafba6a4bc39e9745",
            "7f80ffc072164d8d9f08f1e07826b925",
            "73cfa82067ac482bbe354c84dfac4378",
            "02cdc8e81bd34376a85213695bc3d031"
          ]
        },
        "id": "DnF46k-CSh5b",
        "outputId": "ab3e698a-88c6-4bab-f891-aef0b75cd0ab",
        "cellView": "form"
      },
      "outputs": [
        {
          "output_type": "display_data",
          "data": {
            "text/plain": [
              "VBox(children=(Text(value='', description='First Name  ', layout=Layout(height='30px', width='300px')), Text(v…"
            ],
            "application/vnd.jupyter.widget-view+json": {
              "version_major": 2,
              "version_minor": 0,
              "model_id": "e4c9006f1cc24bdf83bd6dc664f55f34"
            }
          },
          "metadata": {}
        }
      ],
      "source": [
        "# @title\n",
        "# Global variable to store current user ID for editing\n",
        "current_user_id = None\n",
        "\n",
        "# Function to add or update user in MongoDB\n",
        "def add_or_update_user(first_name, second_name, height, gender, dob):\n",
        "    global current_user_id\n",
        "    # Convert the Date of Birth to datetime\n",
        "    dob_datetime = datetime.combine(dob, datetime.min.time()) if dob else None\n",
        "\n",
        "    user_data = {\n",
        "        \"First Name\": first_name,\n",
        "        \"Second Name\": second_name,\n",
        "        \"Height\": height,\n",
        "        \"Gender\": gender,\n",
        "        \"Date of Birth\": dob_datetime\n",
        "    }\n",
        "\n",
        "    if current_user_id is None:\n",
        "        # Insert new user\n",
        "        result = collection.insert_one(user_data)\n",
        "        current_user_id = result.inserted_id\n",
        "        with message_output:\n",
        "            clear_output()\n",
        "            print(f\"User {first_name} {second_name} added to the database.\")\n",
        "    else:\n",
        "        # Update existing user\n",
        "        collection.update_one({\"_id\": current_user_id}, {\"$set\": user_data})\n",
        "        with message_output:\n",
        "            clear_output()\n",
        "            print(f\"User {first_name} {second_name}'s data updated in the database.\")\n",
        "\n",
        "# Function to display an error message (acts like a modal)\n",
        "def show_error(message):\n",
        "    with message_output:\n",
        "        clear_output()\n",
        "        print(f\"Error: {message}\")\n",
        "\n",
        "# Function to handle the submit action\n",
        "def on_submit(b):\n",
        "    global current_user_id\n",
        "    first_name = first_name_input.value\n",
        "    second_name = second_name_input.value\n",
        "    height = float(height_input.value)\n",
        "    gender = gender_input.value\n",
        "    dob = dob_input.value\n",
        "\n",
        "    # Validation: Check if first name, second name, and date of birth are filled\n",
        "    if not first_name or not second_name:\n",
        "        show_error(\"First Name and Second Name cannot be empty.\")\n",
        "        return\n",
        "\n",
        "    if not dob:\n",
        "        show_error(\"Date of Birth cannot be empty.\")\n",
        "        return\n",
        "\n",
        "    # Insert or update the user data in MongoDB\n",
        "    add_or_update_user(first_name, second_name, height, gender, dob)\n",
        "\n",
        "    # Disable fields and activate edit button\n",
        "    first_name_input.disabled = True\n",
        "    second_name_input.disabled = True\n",
        "    height_input.disabled = True\n",
        "    gender_input.disabled = True\n",
        "    dob_input.disabled = True\n",
        "    submit_button.disabled = True\n",
        "    edit_button.disabled = False\n",
        "\n",
        "# Function to handle the edit action\n",
        "def on_edit(b):\n",
        "    # Enable fields and disable edit button\n",
        "    first_name_input.disabled = False\n",
        "    second_name_input.disabled = False\n",
        "    height_input.disabled = False\n",
        "    gender_input.disabled = False\n",
        "    dob_input.disabled = False\n",
        "    submit_button.disabled = False\n",
        "    edit_button.disabled = True\n",
        "\n",
        "# Customizing font size and layout\n",
        "text_layout = widgets.Layout(width='300px', height='30px', font_size='16px')\n",
        "button_style = widgets.ButtonStyle(button_color='lightblue')\n",
        "\n",
        "# Create input fields with initial disabled state for edit button\n",
        "first_name_input = widgets.Text(description=\"First Name  \", layout=text_layout)\n",
        "second_name_input = widgets.Text(description=\"Second Name\", layout=text_layout)\n",
        "height_input = widgets.BoundedFloatText(value=150, min=100, max=300, description=\"Height (cm)\", layout=text_layout)\n",
        "\n",
        "# Gender radio buttons (now stacked vertically using VBox)\n",
        "gender_input = widgets.RadioButtons(\n",
        "    options=['Male', 'Female'],\n",
        "    value='Male',  # Default value\n",
        "    description='Gender',\n",
        "    layout=widgets.Layout(width='auto')  # Allow auto width to fit both options\n",
        ")\n",
        "\n",
        "# Date of Birth input\n",
        "dob_input = widgets.DatePicker(description='Date of Birth', layout=text_layout)\n",
        "\n",
        "# Submit and Edit buttons with custom color and font size\n",
        "submit_button = widgets.Button(description=\"Submit\", style=button_style, layout=widgets.Layout(width='150px', height='40px', font_size='16px'))\n",
        "edit_button = widgets.Button(description=\"Edit\", disabled=True, style=button_style, layout=widgets.Layout(width='150px', height='40px', font_size='16px'))\n",
        "\n",
        "# Output widget to display error or success messages\n",
        "message_output = widgets.Output()\n",
        "\n",
        "# Attach button event handlers\n",
        "submit_button.on_click(on_submit)\n",
        "edit_button.on_click(on_edit)\n",
        "\n",
        "# Group gender input and date picker into an HBox for better layout\n",
        "gender_dob_box = widgets.HBox([gender_input, dob_input])\n",
        "\n",
        "# Display the widgets using VBox for vertical alignment\n",
        "display(widgets.VBox([first_name_input, second_name_input, height_input, gender_dob_box, submit_button, edit_button, message_output]))\n"
      ]
    },
    {
      "cell_type": "markdown",
      "source": [
        "# Fetch data from MongoDB and return it as a list"
      ],
      "metadata": {
        "id": "ktwcXw36cx-l"
      }
    },
    {
      "cell_type": "markdown",
      "source": [
        "Fetch the data\n"
      ],
      "metadata": {
        "id": "y4JhW-SidTQM"
      }
    },
    {
      "cell_type": "code",
      "source": [
        "data = fetch_data()\n",
        "\n",
        "data"
      ],
      "metadata": {
        "colab": {
          "base_uri": "https://localhost:8080/"
        },
        "id": "ExU_j3bwdO8O",
        "outputId": "8a340fd0-a2c7-4cd7-8ed4-256033d0f6fe"
      },
      "execution_count": null,
      "outputs": [
        {
          "output_type": "execute_result",
          "data": {
            "text/plain": [
              "[{'First Name': 'Carla',\n",
              "  'Second Name': 'P',\n",
              "  'Height': 166.0,\n",
              "  'Gender': 'Female',\n",
              "  'Date of Birth': datetime.datetime(2008, 4, 19, 0, 0),\n",
              "  '_id': ObjectId('671745a3cae9b67d0a5a6267')},\n",
              " {'First Name': 'Eléonore',\n",
              "  'Second Name': 'M',\n",
              "  'Height': 162.0,\n",
              "  'Gender': 'Female',\n",
              "  'Date of Birth': datetime.datetime(2007, 10, 21, 0, 0),\n",
              "  '_id': ObjectId('671745faa8077b1e0720a13e')},\n",
              " {'First Name': 'Laura',\n",
              "  'Second Name': 'Costea',\n",
              "  'Height': 168.0,\n",
              "  'Gender': 'Female',\n",
              "  'Date of Birth': datetime.datetime(2007, 6, 24, 0, 0),\n",
              "  '_id': ObjectId('6717464234938a7edcb19163')},\n",
              " {'First Name': 'Maria',\n",
              "  'Second Name': 'Khirstan',\n",
              "  'Height': 163.0,\n",
              "  'Gender': 'Female',\n",
              "  'Date of Birth': datetime.datetime(2005, 10, 16, 0, 0),\n",
              "  '_id': ObjectId('6717466e0220c3b94f8db15e')},\n",
              " {'First Name': 'Naila',\n",
              "  'Second Name': 'Maelyne',\n",
              "  'Height': 165.0,\n",
              "  'Gender': 'Female',\n",
              "  'Date of Birth': datetime.datetime(2009, 7, 19, 0, 0),\n",
              "  '_id': ObjectId('6717468015e202d37f659583')},\n",
              " {'First Name': 'Marc',\n",
              "  'Second Name': 'Mitrasca',\n",
              "  'Height': 180.0,\n",
              "  'Gender': 'Male',\n",
              "  'Date of Birth': datetime.datetime(2008, 5, 16, 0, 0),\n",
              "  '_id': ObjectId('671746858acd227ae4dab380')},\n",
              " {'First Name': 'Raluca',\n",
              "  'Second Name': 'Simonca',\n",
              "  'Height': 182.0,\n",
              "  'Gender': 'Female',\n",
              "  'Date of Birth': datetime.datetime(2008, 6, 11, 0, 0),\n",
              "  '_id': ObjectId('67174696e5674f5d66dcbb17')},\n",
              " {'First Name': 'Paul',\n",
              "  'Second Name': 'Matei',\n",
              "  'Height': 150.0,\n",
              "  'Gender': 'Male',\n",
              "  'Date of Birth': datetime.datetime(2010, 2, 3, 0, 0),\n",
              "  '_id': ObjectId('6717469edc5ea53989da98c5')},\n",
              " {'First Name': 'Tudor',\n",
              "  'Second Name': 'Moldovan',\n",
              "  'Height': 188.0,\n",
              "  'Gender': 'Male',\n",
              "  'Date of Birth': datetime.datetime(2008, 9, 30, 0, 0),\n",
              "  '_id': ObjectId('671746a05f44a0f515320d2b')},\n",
              " {'First Name': 'Marcel',\n",
              "  'Second Name': 'Bulog',\n",
              "  'Height': 100.0,\n",
              "  'Gender': 'Male',\n",
              "  'Date of Birth': datetime.datetime(2024, 10, 15, 0, 0),\n",
              "  '_id': ObjectId('671746ba33f619b7a791bcf6')},\n",
              " {'First Name': 'Denisa',\n",
              "  'Second Name': 'Bujoi',\n",
              "  'Height': 160.0,\n",
              "  'Gender': 'Female',\n",
              "  'Date of Birth': datetime.datetime(2008, 2, 23, 0, 0),\n",
              "  '_id': ObjectId('671746c03bb037d441abc4da')},\n",
              " {'First Name': 'Natalia',\n",
              "  'Second Name': 'Ignat',\n",
              "  'Height': 150.0,\n",
              "  'Gender': 'Female',\n",
              "  'Date of Birth': datetime.datetime(2007, 12, 16, 0, 0),\n",
              "  '_id': ObjectId('671746e98b751b44ea4b0731')},\n",
              " {'First Name': 'Daria',\n",
              "  'Second Name': 'Furdui',\n",
              "  'Height': 162.0,\n",
              "  'Gender': 'Female',\n",
              "  'Date of Birth': datetime.datetime(2008, 4, 21, 0, 0),\n",
              "  '_id': ObjectId('671747397d0f6e2c6c5ddcdc')},\n",
              " {'First Name': 'Dany',\n",
              "  'Second Name': 'Măcicășan',\n",
              "  'Height': 175.0,\n",
              "  'Gender': 'Male',\n",
              "  'Date of Birth': datetime.datetime(2008, 11, 4, 0, 0),\n",
              "  '_id': ObjectId('67174743d06d84567547aac0')},\n",
              " {'First Name': 'Daria',\n",
              "  'Second Name': 'Morutan',\n",
              "  'Height': 163.0,\n",
              "  'Gender': 'Female',\n",
              "  'Date of Birth': datetime.datetime(2008, 4, 18, 0, 0),\n",
              "  '_id': ObjectId('671747516aebf522b7d0f56c')},\n",
              " {'First Name': 'Eléonore',\n",
              "  'Second Name': 'M',\n",
              "  'Height': 162.0,\n",
              "  'Gender': 'Female',\n",
              "  'Date of Birth': datetime.datetime(2007, 10, 21, 0, 0),\n",
              "  '_id': ObjectId('67174763a8077b1e0720a140')},\n",
              " {'First Name': 'Ecaterina ',\n",
              "  'Second Name': 'Borza',\n",
              "  'Height': 160.0,\n",
              "  'Gender': 'Female',\n",
              "  'Date of Birth': datetime.datetime(2008, 4, 8, 0, 0),\n",
              "  '_id': ObjectId('67174763fd07195c4c3cb616')},\n",
              " {'First Name': 'Natalia',\n",
              "  'Second Name': 'Ignat',\n",
              "  'Height': 163.0,\n",
              "  'Gender': 'Female',\n",
              "  'Date of Birth': datetime.datetime(2007, 12, 16, 0, 0),\n",
              "  '_id': ObjectId('671747728b751b44ea4b0733')},\n",
              " {'First Name': 'Théo ',\n",
              "  'Second Name': 'Cincotta',\n",
              "  'Height': 186.0,\n",
              "  'Gender': 'Male',\n",
              "  'Date of Birth': datetime.datetime(2007, 4, 13, 0, 0),\n",
              "  '_id': ObjectId('671747895ba8dc35d3b24bdc')},\n",
              " {'First Name': 'Lucas',\n",
              "  'Second Name': 'Cincotta',\n",
              "  'Height': 188.0,\n",
              "  'Gender': 'Male',\n",
              "  'Date of Birth': datetime.datetime(2007, 4, 13, 0, 0),\n",
              "  '_id': ObjectId('6717478ddbd1e021e8acc37a')},\n",
              " {'First Name': 'Andrei',\n",
              "  'Second Name': 'Burca',\n",
              "  'Height': 176.0,\n",
              "  'Gender': 'Male',\n",
              "  'Date of Birth': datetime.datetime(2007, 8, 10, 0, 0),\n",
              "  '_id': ObjectId('67174790c5c0f177b2dc0b42')},\n",
              " {'First Name': 'C',\n",
              "  'Second Name': 'M',\n",
              "  'Height': 195.0,\n",
              "  'Gender': 'Male',\n",
              "  'Date of Birth': datetime.datetime(2007, 8, 16, 0, 0),\n",
              "  '_id': ObjectId('67174798713e5cd304e2829f')},\n",
              " {'First Name': 'Miruna',\n",
              "  'Second Name': 'Hangan',\n",
              "  'Height': 160.0,\n",
              "  'Gender': 'Female',\n",
              "  'Date of Birth': datetime.datetime(2007, 8, 11, 0, 0),\n",
              "  '_id': ObjectId('6717479ada78fde6655d8bff')},\n",
              " {'First Name': 'Iuga',\n",
              "  'Second Name': 'Raul',\n",
              "  'Height': 190.0,\n",
              "  'Gender': 'Male',\n",
              "  'Date of Birth': datetime.datetime(2007, 8, 3, 0, 0),\n",
              "  '_id': ObjectId('6717479be7c94a7c850cff80')},\n",
              " {'First Name': 'Maria',\n",
              "  'Second Name': 'Sandor',\n",
              "  'Height': 175.0,\n",
              "  'Gender': 'Female',\n",
              "  'Date of Birth': datetime.datetime(2007, 8, 8, 0, 0),\n",
              "  '_id': ObjectId('6717479d98658c3696b94971')},\n",
              " {'First Name': 'Louise',\n",
              "  'Second Name': 'Barouch-Lemarchand ',\n",
              "  'Height': 169.0,\n",
              "  'Gender': 'Female',\n",
              "  'Date of Birth': datetime.datetime(2007, 10, 22, 0, 0),\n",
              "  '_id': ObjectId('671747a0604ed42cbee03a71')},\n",
              " {'First Name': 'Anton',\n",
              "  'Second Name': 'Ketype',\n",
              "  'Height': 160.0,\n",
              "  'Gender': 'Male',\n",
              "  'Date of Birth': datetime.datetime(2007, 5, 16, 0, 0),\n",
              "  '_id': ObjectId('671747acf104b1ddbb5f2763')},\n",
              " {'First Name': 'Matei',\n",
              "  'Second Name': 'Barbat',\n",
              "  'Height': 182.5,\n",
              "  'Gender': 'Male',\n",
              "  'Date of Birth': datetime.datetime(2018, 12, 21, 0, 0),\n",
              "  '_id': ObjectId('671747bae1e6045b48c7539c')},\n",
              " {'First Name': 'Aurelie',\n",
              "  'Second Name': 'Labonne',\n",
              "  'Height': 165.0,\n",
              "  'Gender': 'Female',\n",
              "  'Date of Birth': datetime.datetime(2009, 4, 13, 0, 0),\n",
              "  '_id': ObjectId('671747d5821ad9148922aa93')},\n",
              " {'First Name': 'Carla',\n",
              "  'Second Name': 'Crisan',\n",
              "  'Height': 170.0,\n",
              "  'Gender': 'Female',\n",
              "  'Date of Birth': datetime.datetime(2008, 3, 21, 0, 0),\n",
              "  '_id': ObjectId('671747d93582aebf047da31d')},\n",
              " {'First Name': 'Casian',\n",
              "  'Second Name': 'Cismaru',\n",
              "  'Height': 175.0,\n",
              "  'Gender': 'Male',\n",
              "  'Date of Birth': datetime.datetime(2007, 12, 21, 0, 0),\n",
              "  '_id': ObjectId('6717480f8d1eb7b1016da161')},\n",
              " {'First Name': 'yves',\n",
              "  'Second Name': 'papegay',\n",
              "  'Height': 181.0,\n",
              "  'Gender': 'Male',\n",
              "  'Date of Birth': datetime.datetime(1963, 12, 31, 0, 0),\n",
              "  '_id': ObjectId('67174810a3b2bd95792f9e9c')},\n",
              " {'First Name': 'Estelle',\n",
              "  'Second Name': 'Terrier',\n",
              "  'Height': 169.0,\n",
              "  'Gender': 'Female',\n",
              "  'Date of Birth': datetime.datetime(2009, 8, 27, 0, 0),\n",
              "  '_id': ObjectId('671748229c4d5c1687e0a3f8')},\n",
              " {'First Name': 'Lilou',\n",
              "  'Second Name': 'Albe',\n",
              "  'Height': 150.0,\n",
              "  'Gender': 'Female',\n",
              "  'Date of Birth': datetime.datetime(2007, 7, 31, 0, 0),\n",
              "  '_id': ObjectId('6717482be74ddef0ed99a467')},\n",
              " {'First Name': 'Nicolae',\n",
              "  'Second Name': 'Iorga',\n",
              "  'Height': 150.0,\n",
              "  'Gender': 'Male',\n",
              "  'Date of Birth': datetime.datetime(2024, 9, 10, 0, 0),\n",
              "  '_id': ObjectId('6717482f80246a40f2336462')},\n",
              " {'First Name': 'Dany',\n",
              "  'Second Name': 'Măcicășan',\n",
              "  'Height': 175.0,\n",
              "  'Gender': 'Male',\n",
              "  'Date of Birth': datetime.datetime(2008, 11, 4, 0, 0),\n",
              "  '_id': ObjectId('6717484bd06d84567547aac2')},\n",
              " {'First Name': 'Laura',\n",
              "  'Second Name': 'Costea',\n",
              "  'Height': 168.0,\n",
              "  'Gender': 'Female',\n",
              "  'Date of Birth': datetime.datetime(2007, 6, 24, 0, 0),\n",
              "  '_id': ObjectId('6717486534938a7edcb19165')},\n",
              " {'First Name': 'Elf',\n",
              "  'Second Name': 'de Noel',\n",
              "  'Height': 100.0,\n",
              "  'Gender': 'Female',\n",
              "  'Date of Birth': datetime.datetime(2023, 12, 24, 0, 0),\n",
              "  '_id': ObjectId('67174868cae9b67d0a5a6269')},\n",
              " {'First Name': 'Sara',\n",
              "  'Second Name': 'Vancea',\n",
              "  'Height': 170.0,\n",
              "  'Gender': 'Female',\n",
              "  'Date of Birth': datetime.datetime(2008, 5, 7, 0, 0),\n",
              "  '_id': ObjectId('6717488c6f1b0dae2c236fe9')},\n",
              " {'First Name': 'cilian',\n",
              "  'Second Name': 'Murphy',\n",
              "  'Height': 190.0,\n",
              "  'Gender': 'Male',\n",
              "  'Date of Birth': datetime.datetime(2006, 3, 24, 0, 0),\n",
              "  '_id': ObjectId('671748cc9e19d85de8f9c4cd')},\n",
              " {'First Name': 'Thomas',\n",
              "  'Second Name': 'Guichard',\n",
              "  'Height': 178.0,\n",
              "  'Gender': 'Male',\n",
              "  'Date of Birth': datetime.datetime(2008, 4, 24, 0, 0),\n",
              "  '_id': ObjectId('6717490167691d394fc5ef13')},\n",
              " {'First Name': 'Aurelie',\n",
              "  'Second Name': 'Labonne',\n",
              "  'Height': 165.0,\n",
              "  'Gender': 'Female',\n",
              "  'Date of Birth': datetime.datetime(2009, 4, 13, 0, 0),\n",
              "  '_id': ObjectId('67174906821ad9148922aa95')},\n",
              " {'First Name': 'Estelle',\n",
              "  'Second Name': 'Terrier',\n",
              "  'Height': 169.0,\n",
              "  'Gender': 'Male',\n",
              "  'Date of Birth': datetime.datetime(2009, 8, 27, 0, 0),\n",
              "  '_id': ObjectId('671749df9c4d5c1687e0a3fa')},\n",
              " {'First Name': 'Cincotta ',\n",
              "  'Second Name': 'Théo ',\n",
              "  'Height': 186.0,\n",
              "  'Gender': 'Male',\n",
              "  'Date of Birth': datetime.datetime(2007, 4, 13, 0, 0),\n",
              "  '_id': ObjectId('67174a925ba8dc35d3b24bde')},\n",
              " {'First Name': 'Estelle',\n",
              "  'Second Name': 'Terrier',\n",
              "  'Height': 169.0,\n",
              "  'Gender': 'Female',\n",
              "  'Date of Birth': datetime.datetime(2009, 8, 27, 0, 0),\n",
              "  '_id': ObjectId('67174a969c4d5c1687e0a3fc')},\n",
              " {'First Name': 'Naila',\n",
              "  'Second Name': 'Maelyne',\n",
              "  'Height': 165.0,\n",
              "  'Gender': 'Female',\n",
              "  'Date of Birth': datetime.datetime(2009, 7, 19, 0, 0),\n",
              "  '_id': ObjectId('67174af715e202d37f659585')},\n",
              " {'First Name': 'Daria',\n",
              "  'Second Name': 'Furdui',\n",
              "  'Height': 162.0,\n",
              "  'Gender': 'Female',\n",
              "  'Date of Birth': datetime.datetime(2008, 4, 21, 0, 0),\n",
              "  '_id': ObjectId('67174b677d0f6e2c6c5ddcde')},\n",
              " {'First Name': 'Naila',\n",
              "  'Second Name': 'Maelyne',\n",
              "  'Height': 165.0,\n",
              "  'Gender': 'Female',\n",
              "  'Date of Birth': datetime.datetime(2009, 7, 19, 0, 0),\n",
              "  '_id': ObjectId('67174b9515e202d37f659587')},\n",
              " {'First Name': 'Iuga',\n",
              "  'Second Name': 'Raul',\n",
              "  'Height': 186.0,\n",
              "  'Gender': 'Male',\n",
              "  'Date of Birth': datetime.datetime(2007, 8, 3, 0, 0),\n",
              "  '_id': ObjectId('67174bf5e7c94a7c850cff82')},\n",
              " {'First Name': 'Natalia',\n",
              "  'Second Name': 'Ignat',\n",
              "  'Height': 163.0,\n",
              "  'Gender': 'Female',\n",
              "  'Date of Birth': datetime.datetime(2007, 12, 16, 0, 0),\n",
              "  '_id': ObjectId('67174c688b751b44ea4b0736')},\n",
              " {'First Name': 'Estelle',\n",
              "  'Second Name': 'Terrier',\n",
              "  'Height': 169.0,\n",
              "  'Gender': 'Female',\n",
              "  'Date of Birth': datetime.datetime(2009, 8, 27, 0, 0),\n",
              "  '_id': ObjectId('67174ec69c4d5c1687e0a3fe')},\n",
              " {'First Name': 'Aurelie',\n",
              "  'Second Name': 'Labonne',\n",
              "  'Height': 165.0,\n",
              "  'Gender': 'Female',\n",
              "  'Date of Birth': datetime.datetime(2009, 4, 13, 0, 0),\n",
              "  '_id': ObjectId('67175063821ad9148922aa97')},\n",
              " {'First Name': 'Cilian ',\n",
              "  'Second Name': 'Murphy',\n",
              "  'Height': 125.0,\n",
              "  'Gender': 'Female',\n",
              "  'Date of Birth': datetime.datetime(2023, 10, 11, 0, 0),\n",
              "  '_id': ObjectId('6717507e67691d394fc5ef15')}]"
            ]
          },
          "metadata": {},
          "execution_count": 6
        }
      ]
    },
    {
      "cell_type": "markdown",
      "source": [
        "Data is a list of collections, access to one of the item using the index of the list"
      ],
      "metadata": {
        "id": "3RLTTWyndy13"
      }
    },
    {
      "cell_type": "code",
      "source": [
        "data[0]"
      ],
      "metadata": {
        "colab": {
          "base_uri": "https://localhost:8080/"
        },
        "id": "uNR_bUpHd1wD",
        "outputId": "d0dc1756-63e3-4855-f091-1fa6fa1b7ebf"
      },
      "execution_count": null,
      "outputs": [
        {
          "output_type": "execute_result",
          "data": {
            "text/plain": [
              "{'First Name': 'Carla',\n",
              " 'Second Name': 'P',\n",
              " 'Height': 166.0,\n",
              " 'Gender': 'Female',\n",
              " 'Date of Birth': datetime.datetime(2008, 4, 19, 0, 0),\n",
              " '_id': ObjectId('671745a3cae9b67d0a5a6267')}"
            ]
          },
          "metadata": {},
          "execution_count": 7
        }
      ]
    },
    {
      "cell_type": "markdown",
      "source": [
        "Access to one field of the collection using the key First name"
      ],
      "metadata": {
        "id": "FPOTurDPeAH7"
      }
    },
    {
      "cell_type": "code",
      "source": [
        "data[0]['First Name']"
      ],
      "metadata": {
        "colab": {
          "base_uri": "https://localhost:8080/",
          "height": 36
        },
        "id": "lR1nRKu3eAiZ",
        "outputId": "38505ebf-44fc-4830-d910-3b3d0ef8fd8b"
      },
      "execution_count": null,
      "outputs": [
        {
          "output_type": "execute_result",
          "data": {
            "text/plain": [
              "'Carla'"
            ],
            "application/vnd.google.colaboratory.intrinsic+json": {
              "type": "string"
            }
          },
          "metadata": {},
          "execution_count": 9
        }
      ]
    },
    {
      "cell_type": "markdown",
      "source": [
        "How may people have entered the form"
      ],
      "metadata": {
        "id": "rdA_o442gcCs"
      }
    },
    {
      "cell_type": "code",
      "source": [
        "len(data)"
      ],
      "metadata": {
        "colab": {
          "base_uri": "https://localhost:8080/"
        },
        "id": "K-ZW-fVygcq5",
        "outputId": "7c006537-0fca-46ec-93e9-5e3f222f4238"
      },
      "execution_count": null,
      "outputs": [
        {
          "output_type": "execute_result",
          "data": {
            "text/plain": [
              "53"
            ]
          },
          "metadata": {},
          "execution_count": 11
        }
      ]
    },
    {
      "cell_type": "markdown",
      "source": [],
      "metadata": {
        "id": "g6mrTrSsg2qh"
      }
    },
    {
      "cell_type": "markdown",
      "source": [
        "Get the user's Second Names as a list"
      ],
      "metadata": {
        "id": "0nCf1DY3giKH"
      }
    },
    {
      "cell_type": "code",
      "source": [
        "[user['Second Name'] for user in data]"
      ],
      "metadata": {
        "colab": {
          "base_uri": "https://localhost:8080/"
        },
        "id": "-tvzOdwcgicQ",
        "outputId": "9a774719-b8f3-44ea-d304-50047db43afb"
      },
      "execution_count": null,
      "outputs": [
        {
          "output_type": "execute_result",
          "data": {
            "text/plain": [
              "['P',\n",
              " 'M',\n",
              " 'Costea',\n",
              " 'Khirstan',\n",
              " 'Maelyne',\n",
              " 'Mitrasca',\n",
              " 'Simonca',\n",
              " 'Matei',\n",
              " 'Moldovan',\n",
              " 'Bulog',\n",
              " 'Bujoi',\n",
              " 'Ignat',\n",
              " 'Furdui',\n",
              " 'Măcicășan',\n",
              " 'Morutan',\n",
              " 'M',\n",
              " 'Borza',\n",
              " 'Ignat',\n",
              " 'Cincotta',\n",
              " 'Cincotta',\n",
              " 'Burca',\n",
              " 'M',\n",
              " 'Hangan',\n",
              " 'Raul',\n",
              " 'Sandor',\n",
              " 'Barouch-Lemarchand ',\n",
              " 'Ketype',\n",
              " 'Barbat',\n",
              " 'Labonne',\n",
              " 'Crisan',\n",
              " 'Cismaru',\n",
              " 'papegay',\n",
              " 'Terrier',\n",
              " 'Albe',\n",
              " 'Iorga',\n",
              " 'Măcicășan',\n",
              " 'Costea',\n",
              " 'de Noel',\n",
              " 'Vancea',\n",
              " 'Murphy',\n",
              " 'Guichard',\n",
              " 'Labonne',\n",
              " 'Terrier',\n",
              " 'Théo ',\n",
              " 'Terrier',\n",
              " 'Maelyne',\n",
              " 'Furdui',\n",
              " 'Maelyne',\n",
              " 'Raul',\n",
              " 'Ignat',\n",
              " 'Terrier',\n",
              " 'Labonne',\n",
              " 'Murphy']"
            ]
          },
          "metadata": {},
          "execution_count": 12
        }
      ]
    },
    {
      "cell_type": "markdown",
      "source": [
        "How many boys do we have?"
      ],
      "metadata": {
        "id": "cHSZkUNhg4Yk"
      }
    },
    {
      "cell_type": "code",
      "source": [
        "sum(1 for user in data if user['Gender'] == 'Male')"
      ],
      "metadata": {
        "colab": {
          "base_uri": "https://localhost:8080/"
        },
        "id": "VrB4ZsZIg4sk",
        "outputId": "2d04ecfe-e4aa-471c-f761-6019daf0c709"
      },
      "execution_count": null,
      "outputs": [
        {
          "output_type": "execute_result",
          "data": {
            "text/plain": [
              "21"
            ]
          },
          "metadata": {},
          "execution_count": 13
        }
      ]
    },
    {
      "cell_type": "markdown",
      "source": [
        "What are the minumum and maximum and mean value of heights?"
      ],
      "metadata": {
        "id": "Ra8O_AzZhERJ"
      }
    },
    {
      "cell_type": "code",
      "source": [
        "# Extract heights and compute the mean\n",
        "heights = [user['Height'] for user in data]"
      ],
      "metadata": {
        "id": "ZM-L4RwKhZkQ"
      },
      "execution_count": null,
      "outputs": []
    },
    {
      "cell_type": "code",
      "source": [
        "min(heights)"
      ],
      "metadata": {
        "colab": {
          "base_uri": "https://localhost:8080/"
        },
        "id": "q1Fc5DRFhdUD",
        "outputId": "96f7ecbe-9a89-4103-bd54-a78f0172ec19"
      },
      "execution_count": null,
      "outputs": [
        {
          "output_type": "execute_result",
          "data": {
            "text/plain": [
              "100.0"
            ]
          },
          "metadata": {},
          "execution_count": 19
        }
      ]
    },
    {
      "cell_type": "code",
      "source": [
        "max(heights)"
      ],
      "metadata": {
        "colab": {
          "base_uri": "https://localhost:8080/"
        },
        "id": "Ea2bEdPBhgt7",
        "outputId": "f5bb4eee-cf21-45cd-ea7f-c2a95377faa8"
      },
      "execution_count": null,
      "outputs": [
        {
          "output_type": "execute_result",
          "data": {
            "text/plain": [
              "195.0"
            ]
          },
          "metadata": {},
          "execution_count": 20
        }
      ]
    },
    {
      "cell_type": "code",
      "source": [
        "mean_height = sum(heights) / len(heights)\n",
        "mean_height"
      ],
      "metadata": {
        "colab": {
          "base_uri": "https://localhost:8080/"
        },
        "id": "bP3ldF9MhEtK",
        "outputId": "08c10900-8620-4ac3-eb48-dc6fc9398c9c"
      },
      "execution_count": null,
      "outputs": [
        {
          "output_type": "execute_result",
          "data": {
            "text/plain": [
              "166.61320754716982"
            ]
          },
          "metadata": {},
          "execution_count": 21
        }
      ]
    }
  ]
}