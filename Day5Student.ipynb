{
  "cells": [
    {
      "cell_type": "markdown",
      "metadata": {
        "id": "view-in-github",
        "colab_type": "text"
      },
      "source": [
        "<a href=\"https://colab.research.google.com/github/Informathiques/2024-Autumn-Cluj-Napoca/blob/main/Day5Student.ipynb\" target=\"_parent\"><img src=\"https://colab.research.google.com/assets/colab-badge.svg\" alt=\"Open In Colab\"/></a>"
      ]
    },
    {
      "cell_type": "markdown",
      "source": [
        "## Initialisation"
      ],
      "metadata": {
        "id": "uDyFxFZyDWzL"
      }
    },
    {
      "cell_type": "code",
      "source": [
        "import numpy as np\n",
        "import matplotlib.pyplot as plt\n",
        "from sklearn.linear_model import LinearRegression\n",
        "from sklearn.cluster import KMeans"
      ],
      "metadata": {
        "id": "ssMKqqfMDYzJ"
      },
      "execution_count": 1,
      "outputs": []
    },
    {
      "cell_type": "markdown",
      "source": [
        "## Exercise 1. Understanding the difference between uniform and normal distributions when generating random numbers."
      ],
      "metadata": {
        "id": "4RsVrB89Eg2j"
      }
    },
    {
      "cell_type": "code",
      "source": [
        "# Generate 10,000 numbers from a normal distribution with a mean of 0 and a standard deviation of 1."
      ],
      "metadata": {
        "id": "ZvqYNaqhEt5G"
      },
      "execution_count": null,
      "outputs": []
    },
    {
      "cell_type": "code",
      "source": [
        "# Generate 10000 numbers with the uniform distribution between -5 and 5"
      ],
      "metadata": {
        "id": "aZLOryccE3jF"
      },
      "execution_count": null,
      "outputs": []
    },
    {
      "cell_type": "code",
      "source": [
        "# Generate 10,000 numbers from a uniform distribution between -5 and 5."
      ],
      "metadata": {
        "id": "xVPDywuwFG7Q"
      },
      "execution_count": null,
      "outputs": []
    },
    {
      "cell_type": "code",
      "source": [],
      "metadata": {
        "id": "b6w8SBDIFOFj"
      },
      "execution_count": null,
      "outputs": []
    },
    {
      "cell_type": "markdown",
      "source": [
        "## Exercise 2. Find a regression coefficient for the given data\n",
        "\n",
        "The data is in the CSV file: weather_data.csv.\n",
        "\n",
        "Please use LinearRegression from sklearn.linear_model, a module within the scikit-learn library, which is a popular open-source machine learning library in Python."
      ],
      "metadata": {
        "id": "iu-RGduYFUcU"
      }
    },
    {
      "cell_type": "code",
      "source": [
        "from sklearn.linear_model import LinearRegression\n",
        "# your code here"
      ],
      "metadata": {
        "id": "7lQDk17AFh9t"
      },
      "execution_count": null,
      "outputs": []
    },
    {
      "cell_type": "code",
      "source": [],
      "metadata": {
        "id": "4HJ960JAItsQ"
      },
      "execution_count": null,
      "outputs": []
    },
    {
      "cell_type": "code",
      "source": [],
      "metadata": {
        "id": "kPbC6Q2EHSMv"
      },
      "execution_count": null,
      "outputs": []
    },
    {
      "cell_type": "markdown",
      "source": [
        "## Exercise 3: Classify the weather data\n",
        "\n",
        "The data is in the CSV file: seasonal_weather_thw_Cluj-Napoca.csv\n",
        "\n",
        "Please use KMeans from sklearn.cluster, a module within the scikit-learn library, which is a popular open-source machine learning library in Python.\n",
        "\n"
      ],
      "metadata": {
        "id": "Tv_5mF3vI-in"
      }
    },
    {
      "cell_type": "code",
      "source": [
        "from sklearn.cluster import KMeans\n",
        "# your code here"
      ],
      "metadata": {
        "id": "DAnmq_AkI9z2"
      },
      "execution_count": null,
      "outputs": []
    },
    {
      "cell_type": "code",
      "source": [],
      "metadata": {
        "id": "4hN6WsHUOuhp"
      },
      "execution_count": null,
      "outputs": []
    }
  ],
  "metadata": {
    "kernelspec": {
      "display_name": "Python 3",
      "language": "python",
      "name": "python3"
    },
    "language_info": {
      "codemirror_mode": {
        "name": "ipython",
        "version": 3
      },
      "file_extension": ".py",
      "mimetype": "text/x-python",
      "name": "python",
      "nbconvert_exporter": "python",
      "pygments_lexer": "ipython3",
      "version": "3.7.9"
    },
    "colab": {
      "provenance": [],
      "include_colab_link": true
    }
  },
  "nbformat": 4,
  "nbformat_minor": 0
}