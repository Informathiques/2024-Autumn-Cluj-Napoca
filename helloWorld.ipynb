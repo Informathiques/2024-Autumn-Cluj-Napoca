{
  "nbformat": 4,
  "nbformat_minor": 0,
  "metadata": {
    "colab": {
      "provenance": [],
      "collapsed_sections": [
        "9zZkz-12c6Z6",
        "bjC-agIRLXO7",
        "pNSJwXQXLw3k"
      ],
      "authorship_tag": "ABX9TyM9jUVQAAnYtwsnXswtSOLn",
      "include_colab_link": true
    },
    "kernelspec": {
      "name": "python3",
      "display_name": "Python 3"
    },
    "language_info": {
      "name": "python"
    },
    "widgets": {
      "application/vnd.jupyter.widget-state+json": {
        "a74b79ba9fa84e669aa06faa0601f274": {
          "model_module": "@jupyter-widgets/controls",
          "model_name": "TextModel",
          "model_module_version": "1.5.0",
          "state": {
            "_dom_classes": [],
            "_model_module": "@jupyter-widgets/controls",
            "_model_module_version": "1.5.0",
            "_model_name": "TextModel",
            "_view_count": null,
            "_view_module": "@jupyter-widgets/controls",
            "_view_module_version": "1.5.0",
            "_view_name": "TextView",
            "continuous_update": true,
            "description": "First Name",
            "description_tooltip": null,
            "disabled": true,
            "layout": "IPY_MODEL_9faabe3e664c423fb730e9c748fcc7ae",
            "placeholder": "​",
            "style": "IPY_MODEL_168c3b72742943dab5ca9a1f6f445c0d",
            "value": "Artem"
          }
        },
        "9faabe3e664c423fb730e9c748fcc7ae": {
          "model_module": "@jupyter-widgets/base",
          "model_name": "LayoutModel",
          "model_module_version": "1.2.0",
          "state": {
            "_model_module": "@jupyter-widgets/base",
            "_model_module_version": "1.2.0",
            "_model_name": "LayoutModel",
            "_view_count": null,
            "_view_module": "@jupyter-widgets/base",
            "_view_module_version": "1.2.0",
            "_view_name": "LayoutView",
            "align_content": null,
            "align_items": null,
            "align_self": null,
            "border": null,
            "bottom": null,
            "display": null,
            "flex": null,
            "flex_flow": null,
            "grid_area": null,
            "grid_auto_columns": null,
            "grid_auto_flow": null,
            "grid_auto_rows": null,
            "grid_column": null,
            "grid_gap": null,
            "grid_row": null,
            "grid_template_areas": null,
            "grid_template_columns": null,
            "grid_template_rows": null,
            "height": null,
            "justify_content": null,
            "justify_items": null,
            "left": null,
            "margin": null,
            "max_height": null,
            "max_width": null,
            "min_height": null,
            "min_width": null,
            "object_fit": null,
            "object_position": null,
            "order": null,
            "overflow": null,
            "overflow_x": null,
            "overflow_y": null,
            "padding": null,
            "right": null,
            "top": null,
            "visibility": null,
            "width": null
          }
        },
        "168c3b72742943dab5ca9a1f6f445c0d": {
          "model_module": "@jupyter-widgets/controls",
          "model_name": "DescriptionStyleModel",
          "model_module_version": "1.5.0",
          "state": {
            "_model_module": "@jupyter-widgets/controls",
            "_model_module_version": "1.5.0",
            "_model_name": "DescriptionStyleModel",
            "_view_count": null,
            "_view_module": "@jupyter-widgets/base",
            "_view_module_version": "1.2.0",
            "_view_name": "StyleView",
            "description_width": ""
          }
        },
        "f303e346da50481ebeed5d2c2211cd99": {
          "model_module": "@jupyter-widgets/controls",
          "model_name": "TextModel",
          "model_module_version": "1.5.0",
          "state": {
            "_dom_classes": [],
            "_model_module": "@jupyter-widgets/controls",
            "_model_module_version": "1.5.0",
            "_model_name": "TextModel",
            "_view_count": null,
            "_view_module": "@jupyter-widgets/controls",
            "_view_module_version": "1.5.0",
            "_view_name": "TextView",
            "continuous_update": true,
            "description": "Second Name",
            "description_tooltip": null,
            "disabled": true,
            "layout": "IPY_MODEL_11e9dfb136c74ebdb765038df476780b",
            "placeholder": "​",
            "style": "IPY_MODEL_13e07556fdab49bfb8f0617dd50b4a4d",
            "value": "ARTEMIS"
          }
        },
        "11e9dfb136c74ebdb765038df476780b": {
          "model_module": "@jupyter-widgets/base",
          "model_name": "LayoutModel",
          "model_module_version": "1.2.0",
          "state": {
            "_model_module": "@jupyter-widgets/base",
            "_model_module_version": "1.2.0",
            "_model_name": "LayoutModel",
            "_view_count": null,
            "_view_module": "@jupyter-widgets/base",
            "_view_module_version": "1.2.0",
            "_view_name": "LayoutView",
            "align_content": null,
            "align_items": null,
            "align_self": null,
            "border": null,
            "bottom": null,
            "display": null,
            "flex": null,
            "flex_flow": null,
            "grid_area": null,
            "grid_auto_columns": null,
            "grid_auto_flow": null,
            "grid_auto_rows": null,
            "grid_column": null,
            "grid_gap": null,
            "grid_row": null,
            "grid_template_areas": null,
            "grid_template_columns": null,
            "grid_template_rows": null,
            "height": null,
            "justify_content": null,
            "justify_items": null,
            "left": null,
            "margin": null,
            "max_height": null,
            "max_width": null,
            "min_height": null,
            "min_width": null,
            "object_fit": null,
            "object_position": null,
            "order": null,
            "overflow": null,
            "overflow_x": null,
            "overflow_y": null,
            "padding": null,
            "right": null,
            "top": null,
            "visibility": null,
            "width": null
          }
        },
        "13e07556fdab49bfb8f0617dd50b4a4d": {
          "model_module": "@jupyter-widgets/controls",
          "model_name": "DescriptionStyleModel",
          "model_module_version": "1.5.0",
          "state": {
            "_model_module": "@jupyter-widgets/controls",
            "_model_module_version": "1.5.0",
            "_model_name": "DescriptionStyleModel",
            "_view_count": null,
            "_view_module": "@jupyter-widgets/base",
            "_view_module_version": "1.2.0",
            "_view_name": "StyleView",
            "description_width": ""
          }
        },
        "1c57565cc9ef4e3e85abc0608c01427d": {
          "model_module": "@jupyter-widgets/controls",
          "model_name": "BoundedFloatTextModel",
          "model_module_version": "1.5.0",
          "state": {
            "_dom_classes": [],
            "_model_module": "@jupyter-widgets/controls",
            "_model_module_version": "1.5.0",
            "_model_name": "BoundedFloatTextModel",
            "_view_count": null,
            "_view_module": "@jupyter-widgets/controls",
            "_view_module_version": "1.5.0",
            "_view_name": "FloatTextView",
            "continuous_update": false,
            "description": "Height (cm)",
            "description_tooltip": null,
            "disabled": true,
            "layout": "IPY_MODEL_850fae5f27b944eaa039fbf782ae7d17",
            "max": 300,
            "min": 100,
            "step": null,
            "style": "IPY_MODEL_13f6e172a97e4e80b4a4878b7ad9e460",
            "value": 180
          }
        },
        "850fae5f27b944eaa039fbf782ae7d17": {
          "model_module": "@jupyter-widgets/base",
          "model_name": "LayoutModel",
          "model_module_version": "1.2.0",
          "state": {
            "_model_module": "@jupyter-widgets/base",
            "_model_module_version": "1.2.0",
            "_model_name": "LayoutModel",
            "_view_count": null,
            "_view_module": "@jupyter-widgets/base",
            "_view_module_version": "1.2.0",
            "_view_name": "LayoutView",
            "align_content": null,
            "align_items": null,
            "align_self": null,
            "border": null,
            "bottom": null,
            "display": null,
            "flex": null,
            "flex_flow": null,
            "grid_area": null,
            "grid_auto_columns": null,
            "grid_auto_flow": null,
            "grid_auto_rows": null,
            "grid_column": null,
            "grid_gap": null,
            "grid_row": null,
            "grid_template_areas": null,
            "grid_template_columns": null,
            "grid_template_rows": null,
            "height": null,
            "justify_content": null,
            "justify_items": null,
            "left": null,
            "margin": null,
            "max_height": null,
            "max_width": null,
            "min_height": null,
            "min_width": null,
            "object_fit": null,
            "object_position": null,
            "order": null,
            "overflow": null,
            "overflow_x": null,
            "overflow_y": null,
            "padding": null,
            "right": null,
            "top": null,
            "visibility": null,
            "width": null
          }
        },
        "13f6e172a97e4e80b4a4878b7ad9e460": {
          "model_module": "@jupyter-widgets/controls",
          "model_name": "DescriptionStyleModel",
          "model_module_version": "1.5.0",
          "state": {
            "_model_module": "@jupyter-widgets/controls",
            "_model_module_version": "1.5.0",
            "_model_name": "DescriptionStyleModel",
            "_view_count": null,
            "_view_module": "@jupyter-widgets/base",
            "_view_module_version": "1.2.0",
            "_view_name": "StyleView",
            "description_width": ""
          }
        },
        "0eb553815fbc4ee8abc9480481a1b6d5": {
          "model_module": "@jupyter-widgets/controls",
          "model_name": "RadioButtonsModel",
          "model_module_version": "1.5.0",
          "state": {
            "_dom_classes": [],
            "_model_module": "@jupyter-widgets/controls",
            "_model_module_version": "1.5.0",
            "_model_name": "RadioButtonsModel",
            "_options_labels": [
              "Male",
              "Female"
            ],
            "_view_count": null,
            "_view_module": "@jupyter-widgets/controls",
            "_view_module_version": "1.5.0",
            "_view_name": "RadioButtonsView",
            "description": "Gender",
            "description_tooltip": null,
            "disabled": true,
            "index": 0,
            "layout": "IPY_MODEL_925772ec224748deb20377a1dabc1bd7",
            "style": "IPY_MODEL_09293329736f454793263074aa4d8db2"
          }
        },
        "925772ec224748deb20377a1dabc1bd7": {
          "model_module": "@jupyter-widgets/base",
          "model_name": "LayoutModel",
          "model_module_version": "1.2.0",
          "state": {
            "_model_module": "@jupyter-widgets/base",
            "_model_module_version": "1.2.0",
            "_model_name": "LayoutModel",
            "_view_count": null,
            "_view_module": "@jupyter-widgets/base",
            "_view_module_version": "1.2.0",
            "_view_name": "LayoutView",
            "align_content": null,
            "align_items": null,
            "align_self": null,
            "border": null,
            "bottom": null,
            "display": null,
            "flex": null,
            "flex_flow": null,
            "grid_area": null,
            "grid_auto_columns": null,
            "grid_auto_flow": null,
            "grid_auto_rows": null,
            "grid_column": null,
            "grid_gap": null,
            "grid_row": null,
            "grid_template_areas": null,
            "grid_template_columns": null,
            "grid_template_rows": null,
            "height": null,
            "justify_content": null,
            "justify_items": null,
            "left": null,
            "margin": null,
            "max_height": null,
            "max_width": null,
            "min_height": null,
            "min_width": null,
            "object_fit": null,
            "object_position": null,
            "order": null,
            "overflow": null,
            "overflow_x": null,
            "overflow_y": null,
            "padding": null,
            "right": null,
            "top": null,
            "visibility": null,
            "width": null
          }
        },
        "09293329736f454793263074aa4d8db2": {
          "model_module": "@jupyter-widgets/controls",
          "model_name": "DescriptionStyleModel",
          "model_module_version": "1.5.0",
          "state": {
            "_model_module": "@jupyter-widgets/controls",
            "_model_module_version": "1.5.0",
            "_model_name": "DescriptionStyleModel",
            "_view_count": null,
            "_view_module": "@jupyter-widgets/base",
            "_view_module_version": "1.2.0",
            "_view_name": "StyleView",
            "description_width": ""
          }
        },
        "3d3cf8d09c774b399b86a46447c00afc": {
          "model_module": "@jupyter-widgets/controls",
          "model_name": "DatePickerModel",
          "model_module_version": "1.5.0",
          "state": {
            "_dom_classes": [],
            "_model_module": "@jupyter-widgets/controls",
            "_model_module_version": "1.5.0",
            "_model_name": "DatePickerModel",
            "_view_count": null,
            "_view_module": "@jupyter-widgets/controls",
            "_view_module_version": "1.5.0",
            "_view_name": "DatePickerView",
            "description": "Date of Birth",
            "description_tooltip": null,
            "disabled": true,
            "layout": "IPY_MODEL_03c0a9d7ac214df7b120525d656d604c",
            "style": "IPY_MODEL_c2458ff18e1847cd840c4fade58a7527",
            "value": {
              "year": 2009,
              "month": 1,
              "date": 22
            }
          }
        },
        "03c0a9d7ac214df7b120525d656d604c": {
          "model_module": "@jupyter-widgets/base",
          "model_name": "LayoutModel",
          "model_module_version": "1.2.0",
          "state": {
            "_model_module": "@jupyter-widgets/base",
            "_model_module_version": "1.2.0",
            "_model_name": "LayoutModel",
            "_view_count": null,
            "_view_module": "@jupyter-widgets/base",
            "_view_module_version": "1.2.0",
            "_view_name": "LayoutView",
            "align_content": null,
            "align_items": null,
            "align_self": null,
            "border": null,
            "bottom": null,
            "display": null,
            "flex": null,
            "flex_flow": null,
            "grid_area": null,
            "grid_auto_columns": null,
            "grid_auto_flow": null,
            "grid_auto_rows": null,
            "grid_column": null,
            "grid_gap": null,
            "grid_row": null,
            "grid_template_areas": null,
            "grid_template_columns": null,
            "grid_template_rows": null,
            "height": null,
            "justify_content": null,
            "justify_items": null,
            "left": null,
            "margin": null,
            "max_height": null,
            "max_width": null,
            "min_height": null,
            "min_width": null,
            "object_fit": null,
            "object_position": null,
            "order": null,
            "overflow": null,
            "overflow_x": null,
            "overflow_y": null,
            "padding": null,
            "right": null,
            "top": null,
            "visibility": null,
            "width": null
          }
        },
        "c2458ff18e1847cd840c4fade58a7527": {
          "model_module": "@jupyter-widgets/controls",
          "model_name": "DescriptionStyleModel",
          "model_module_version": "1.5.0",
          "state": {
            "_model_module": "@jupyter-widgets/controls",
            "_model_module_version": "1.5.0",
            "_model_name": "DescriptionStyleModel",
            "_view_count": null,
            "_view_module": "@jupyter-widgets/base",
            "_view_module_version": "1.2.0",
            "_view_name": "StyleView",
            "description_width": ""
          }
        },
        "cb839c1b110c4d2c9f27b171ed0b5e19": {
          "model_module": "@jupyter-widgets/controls",
          "model_name": "ButtonModel",
          "model_module_version": "1.5.0",
          "state": {
            "_dom_classes": [],
            "_model_module": "@jupyter-widgets/controls",
            "_model_module_version": "1.5.0",
            "_model_name": "ButtonModel",
            "_view_count": null,
            "_view_module": "@jupyter-widgets/controls",
            "_view_module_version": "1.5.0",
            "_view_name": "ButtonView",
            "button_style": "",
            "description": "Submit",
            "disabled": true,
            "icon": "",
            "layout": "IPY_MODEL_16069c31b96543bb9e222081b1e93a3d",
            "style": "IPY_MODEL_ff7abaed9fcc47e6ba590c71cbc9289e",
            "tooltip": ""
          }
        },
        "16069c31b96543bb9e222081b1e93a3d": {
          "model_module": "@jupyter-widgets/base",
          "model_name": "LayoutModel",
          "model_module_version": "1.2.0",
          "state": {
            "_model_module": "@jupyter-widgets/base",
            "_model_module_version": "1.2.0",
            "_model_name": "LayoutModel",
            "_view_count": null,
            "_view_module": "@jupyter-widgets/base",
            "_view_module_version": "1.2.0",
            "_view_name": "LayoutView",
            "align_content": null,
            "align_items": null,
            "align_self": null,
            "border": null,
            "bottom": null,
            "display": null,
            "flex": null,
            "flex_flow": null,
            "grid_area": null,
            "grid_auto_columns": null,
            "grid_auto_flow": null,
            "grid_auto_rows": null,
            "grid_column": null,
            "grid_gap": null,
            "grid_row": null,
            "grid_template_areas": null,
            "grid_template_columns": null,
            "grid_template_rows": null,
            "height": null,
            "justify_content": null,
            "justify_items": null,
            "left": null,
            "margin": null,
            "max_height": null,
            "max_width": null,
            "min_height": null,
            "min_width": null,
            "object_fit": null,
            "object_position": null,
            "order": null,
            "overflow": null,
            "overflow_x": null,
            "overflow_y": null,
            "padding": null,
            "right": null,
            "top": null,
            "visibility": null,
            "width": null
          }
        },
        "ff7abaed9fcc47e6ba590c71cbc9289e": {
          "model_module": "@jupyter-widgets/controls",
          "model_name": "ButtonStyleModel",
          "model_module_version": "1.5.0",
          "state": {
            "_model_module": "@jupyter-widgets/controls",
            "_model_module_version": "1.5.0",
            "_model_name": "ButtonStyleModel",
            "_view_count": null,
            "_view_module": "@jupyter-widgets/base",
            "_view_module_version": "1.2.0",
            "_view_name": "StyleView",
            "button_color": null,
            "font_weight": ""
          }
        },
        "bde520455e764bc6adc5447c3baa4cf7": {
          "model_module": "@jupyter-widgets/controls",
          "model_name": "ButtonModel",
          "model_module_version": "1.5.0",
          "state": {
            "_dom_classes": [],
            "_model_module": "@jupyter-widgets/controls",
            "_model_module_version": "1.5.0",
            "_model_name": "ButtonModel",
            "_view_count": null,
            "_view_module": "@jupyter-widgets/controls",
            "_view_module_version": "1.5.0",
            "_view_name": "ButtonView",
            "button_style": "",
            "description": "Edit",
            "disabled": false,
            "icon": "",
            "layout": "IPY_MODEL_1a07a9e671e3457594bf952ba5d16ae3",
            "style": "IPY_MODEL_508c757c075547578f455b628a0211d2",
            "tooltip": ""
          }
        },
        "1a07a9e671e3457594bf952ba5d16ae3": {
          "model_module": "@jupyter-widgets/base",
          "model_name": "LayoutModel",
          "model_module_version": "1.2.0",
          "state": {
            "_model_module": "@jupyter-widgets/base",
            "_model_module_version": "1.2.0",
            "_model_name": "LayoutModel",
            "_view_count": null,
            "_view_module": "@jupyter-widgets/base",
            "_view_module_version": "1.2.0",
            "_view_name": "LayoutView",
            "align_content": null,
            "align_items": null,
            "align_self": null,
            "border": null,
            "bottom": null,
            "display": null,
            "flex": null,
            "flex_flow": null,
            "grid_area": null,
            "grid_auto_columns": null,
            "grid_auto_flow": null,
            "grid_auto_rows": null,
            "grid_column": null,
            "grid_gap": null,
            "grid_row": null,
            "grid_template_areas": null,
            "grid_template_columns": null,
            "grid_template_rows": null,
            "height": null,
            "justify_content": null,
            "justify_items": null,
            "left": null,
            "margin": null,
            "max_height": null,
            "max_width": null,
            "min_height": null,
            "min_width": null,
            "object_fit": null,
            "object_position": null,
            "order": null,
            "overflow": null,
            "overflow_x": null,
            "overflow_y": null,
            "padding": null,
            "right": null,
            "top": null,
            "visibility": null,
            "width": null
          }
        },
        "508c757c075547578f455b628a0211d2": {
          "model_module": "@jupyter-widgets/controls",
          "model_name": "ButtonStyleModel",
          "model_module_version": "1.5.0",
          "state": {
            "_model_module": "@jupyter-widgets/controls",
            "_model_module_version": "1.5.0",
            "_model_name": "ButtonStyleModel",
            "_view_count": null,
            "_view_module": "@jupyter-widgets/base",
            "_view_module_version": "1.2.0",
            "_view_name": "StyleView",
            "button_color": null,
            "font_weight": ""
          }
        },
        "27ae8cf482054f9fa63c91db3813abba": {
          "model_module": "@jupyter-widgets/controls",
          "model_name": "ButtonModel",
          "model_module_version": "1.5.0",
          "state": {
            "_dom_classes": [],
            "_model_module": "@jupyter-widgets/controls",
            "_model_module_version": "1.5.0",
            "_model_name": "ButtonModel",
            "_view_count": null,
            "_view_module": "@jupyter-widgets/controls",
            "_view_module_version": "1.5.0",
            "_view_name": "ButtonView",
            "button_style": "",
            "description": "Compare to others",
            "disabled": false,
            "icon": "",
            "layout": "IPY_MODEL_fedaa0adb87b4778a06c8b147391c38f",
            "style": "IPY_MODEL_dbb8ab2df3ec4a7788edcaf86daef6e3",
            "tooltip": ""
          }
        },
        "fedaa0adb87b4778a06c8b147391c38f": {
          "model_module": "@jupyter-widgets/base",
          "model_name": "LayoutModel",
          "model_module_version": "1.2.0",
          "state": {
            "_model_module": "@jupyter-widgets/base",
            "_model_module_version": "1.2.0",
            "_model_name": "LayoutModel",
            "_view_count": null,
            "_view_module": "@jupyter-widgets/base",
            "_view_module_version": "1.2.0",
            "_view_name": "LayoutView",
            "align_content": null,
            "align_items": null,
            "align_self": null,
            "border": null,
            "bottom": null,
            "display": null,
            "flex": null,
            "flex_flow": null,
            "grid_area": null,
            "grid_auto_columns": null,
            "grid_auto_flow": null,
            "grid_auto_rows": null,
            "grid_column": null,
            "grid_gap": null,
            "grid_row": null,
            "grid_template_areas": null,
            "grid_template_columns": null,
            "grid_template_rows": null,
            "height": null,
            "justify_content": null,
            "justify_items": null,
            "left": null,
            "margin": null,
            "max_height": null,
            "max_width": null,
            "min_height": null,
            "min_width": null,
            "object_fit": null,
            "object_position": null,
            "order": null,
            "overflow": null,
            "overflow_x": null,
            "overflow_y": null,
            "padding": null,
            "right": null,
            "top": null,
            "visibility": null,
            "width": null
          }
        },
        "dbb8ab2df3ec4a7788edcaf86daef6e3": {
          "model_module": "@jupyter-widgets/controls",
          "model_name": "ButtonStyleModel",
          "model_module_version": "1.5.0",
          "state": {
            "_model_module": "@jupyter-widgets/controls",
            "_model_module_version": "1.5.0",
            "_model_name": "ButtonStyleModel",
            "_view_count": null,
            "_view_module": "@jupyter-widgets/base",
            "_view_module_version": "1.2.0",
            "_view_name": "StyleView",
            "button_color": null,
            "font_weight": ""
          }
        }
      }
    }
  },
  "cells": [
    {
      "cell_type": "markdown",
      "metadata": {
        "id": "view-in-github",
        "colab_type": "text"
      },
      "source": [
        "<a href=\"https://colab.research.google.com/github/Informathiques/2024-Autumn-Cluj-Napoca/blob/main/helloWorld.ipynb\" target=\"_parent\"><img src=\"https://colab.research.google.com/assets/colab-badge.svg\" alt=\"Open In Colab\"/></a>"
      ]
    },
    {
      "cell_type": "markdown",
      "source": [
        "# This is a service part, please simply run it"
      ],
      "metadata": {
        "id": "_6O6j6V2cxdS"
      }
    },
    {
      "cell_type": "code",
      "source": [
        "!pip install pymongo[srv]\n",
        "\n",
        "import os\n",
        "MONGO_URI = os.getenv(\"SMONGO_URI\")"
      ],
      "metadata": {
        "colab": {
          "base_uri": "https://localhost:8080/"
        },
        "id": "zGUr1ECOF4-V",
        "outputId": "cefac065-3f97-4e26-ea83-26da45048532"
      },
      "execution_count": 23,
      "outputs": [
        {
          "output_type": "stream",
          "name": "stdout",
          "text": [
            "Requirement already satisfied: pymongo[srv] in /usr/local/lib/python3.10/dist-packages (4.10.1)\n",
            "\u001b[33mWARNING: pymongo 4.10.1 does not provide the extra 'srv'\u001b[0m\u001b[33m\n",
            "\u001b[0mRequirement already satisfied: dnspython<3.0.0,>=1.16.0 in /usr/local/lib/python3.10/dist-packages (from pymongo[srv]) (2.7.0)\n"
          ]
        }
      ]
    },
    {
      "cell_type": "markdown",
      "source": [
        "# This part of the code will ask you to enter some data about you"
      ],
      "metadata": {
        "id": "9zZkz-12c6Z6"
      }
    },
    {
      "cell_type": "code",
      "execution_count": 2,
      "metadata": {
        "colab": {
          "base_uri": "https://localhost:8080/",
          "height": 282,
          "referenced_widgets": [
            "a74b79ba9fa84e669aa06faa0601f274",
            "9faabe3e664c423fb730e9c748fcc7ae",
            "168c3b72742943dab5ca9a1f6f445c0d",
            "f303e346da50481ebeed5d2c2211cd99",
            "11e9dfb136c74ebdb765038df476780b",
            "13e07556fdab49bfb8f0617dd50b4a4d",
            "1c57565cc9ef4e3e85abc0608c01427d",
            "850fae5f27b944eaa039fbf782ae7d17",
            "13f6e172a97e4e80b4a4878b7ad9e460",
            "0eb553815fbc4ee8abc9480481a1b6d5",
            "925772ec224748deb20377a1dabc1bd7",
            "09293329736f454793263074aa4d8db2",
            "3d3cf8d09c774b399b86a46447c00afc",
            "03c0a9d7ac214df7b120525d656d604c",
            "c2458ff18e1847cd840c4fade58a7527",
            "cb839c1b110c4d2c9f27b171ed0b5e19",
            "16069c31b96543bb9e222081b1e93a3d",
            "ff7abaed9fcc47e6ba590c71cbc9289e",
            "bde520455e764bc6adc5447c3baa4cf7",
            "1a07a9e671e3457594bf952ba5d16ae3",
            "508c757c075547578f455b628a0211d2"
          ]
        },
        "id": "DnF46k-CSh5b",
        "outputId": "686d8edb-ee26-40ad-f5e5-01d670cad83c"
      },
      "outputs": [
        {
          "output_type": "display_data",
          "data": {
            "text/plain": [
              "Text(value='', description='First Name')"
            ],
            "application/vnd.jupyter.widget-view+json": {
              "version_major": 2,
              "version_minor": 0,
              "model_id": "a74b79ba9fa84e669aa06faa0601f274"
            }
          },
          "metadata": {}
        },
        {
          "output_type": "display_data",
          "data": {
            "text/plain": [
              "Text(value='', description='Second Name')"
            ],
            "application/vnd.jupyter.widget-view+json": {
              "version_major": 2,
              "version_minor": 0,
              "model_id": "f303e346da50481ebeed5d2c2211cd99"
            }
          },
          "metadata": {}
        },
        {
          "output_type": "display_data",
          "data": {
            "text/plain": [
              "BoundedFloatText(value=150.0, description='Height (cm)', max=300.0, min=100.0)"
            ],
            "application/vnd.jupyter.widget-view+json": {
              "version_major": 2,
              "version_minor": 0,
              "model_id": "1c57565cc9ef4e3e85abc0608c01427d"
            }
          },
          "metadata": {}
        },
        {
          "output_type": "display_data",
          "data": {
            "text/plain": [
              "RadioButtons(description='Gender', options=('Male', 'Female'), value='Male')"
            ],
            "application/vnd.jupyter.widget-view+json": {
              "version_major": 2,
              "version_minor": 0,
              "model_id": "0eb553815fbc4ee8abc9480481a1b6d5"
            }
          },
          "metadata": {}
        },
        {
          "output_type": "display_data",
          "data": {
            "text/plain": [
              "DatePicker(value=None, description='Date of Birth')"
            ],
            "application/vnd.jupyter.widget-view+json": {
              "version_major": 2,
              "version_minor": 0,
              "model_id": "3d3cf8d09c774b399b86a46447c00afc"
            }
          },
          "metadata": {}
        },
        {
          "output_type": "display_data",
          "data": {
            "text/plain": [
              "Button(description='Submit', style=ButtonStyle())"
            ],
            "application/vnd.jupyter.widget-view+json": {
              "version_major": 2,
              "version_minor": 0,
              "model_id": "cb839c1b110c4d2c9f27b171ed0b5e19"
            }
          },
          "metadata": {}
        },
        {
          "output_type": "display_data",
          "data": {
            "text/plain": [
              "Button(description='Edit', disabled=True, style=ButtonStyle())"
            ],
            "application/vnd.jupyter.widget-view+json": {
              "version_major": 2,
              "version_minor": 0,
              "model_id": "bde520455e764bc6adc5447c3baa4cf7"
            }
          },
          "metadata": {}
        },
        {
          "output_type": "stream",
          "name": "stdout",
          "text": [
            "User Artem ARTEMIS added to the database.\n"
          ]
        }
      ],
      "source": [
        "import pymongo\n",
        "from pymongo import MongoClient\n",
        "import ipywidgets as widgets\n",
        "from IPython.display import display, clear_output\n",
        "from datetime import datetime\n",
        "\n",
        "# MongoDB connection (Replace with your connection string)\n",
        "#MONGO_URI = \"mongodb+srv://<username>:<password>@cluster0.mongodb.net/myDatabase?retryWrites=true&w=majority\"\n",
        "client = MongoClient(MONGO_URI)\n",
        "db = client[\"myDatabase\"]  # Database name\n",
        "collection = db[\"users\"]  # Collection name\n",
        "\n",
        "# Global variable to store current user ID for editing\n",
        "current_user_id = None\n",
        "\n",
        "# Function to add or update user in MongoDB\n",
        "def add_or_update_user(first_name, second_name, height, gender, dob):\n",
        "    global current_user_id\n",
        "    # Convert the Date of Birth to datetime\n",
        "    dob_datetime = datetime.combine(dob, datetime.min.time()) if dob else None\n",
        "\n",
        "    user_data = {\n",
        "        \"First Name\": first_name,\n",
        "        \"Second Name\": second_name,\n",
        "        \"Height\": height,\n",
        "        \"Gender\": gender,\n",
        "        \"Date of Birth\": dob_datetime\n",
        "    }\n",
        "\n",
        "    if current_user_id is None:\n",
        "        # Insert new user\n",
        "        result = collection.insert_one(user_data)\n",
        "        current_user_id = result.inserted_id\n",
        "        print(f\"User {first_name} {second_name} added to the database.\")\n",
        "    else:\n",
        "        # Update existing user\n",
        "        collection.update_one({\"_id\": current_user_id}, {\"$set\": user_data})\n",
        "        print(f\"User {first_name} {second_name}'s data updated in the database.\")\n",
        "\n",
        "# Function to handle the submit action\n",
        "def on_submit(b):\n",
        "    global current_user_id\n",
        "    first_name = first_name_input.value\n",
        "    second_name = second_name_input.value\n",
        "    height = int(height_input.value)\n",
        "    gender = gender_input.value\n",
        "    dob = dob_input.value\n",
        "\n",
        "    # Insert or update the user data in MongoDB\n",
        "    add_or_update_user(first_name, second_name, height, gender, dob)\n",
        "\n",
        "    # Disable fields and activate edit button\n",
        "    first_name_input.disabled = True\n",
        "    second_name_input.disabled = True\n",
        "    height_input.disabled = True\n",
        "    gender_input.disabled = True\n",
        "    dob_input.disabled = True\n",
        "    submit_button.disabled = True\n",
        "    edit_button.disabled = False\n",
        "\n",
        "# Function to handle the edit action\n",
        "def on_edit(b):\n",
        "    # Enable fields and disable edit button\n",
        "    first_name_input.disabled = False\n",
        "    second_name_input.disabled = False\n",
        "    height_input.disabled = False\n",
        "    gender_input.disabled = False\n",
        "    dob_input.disabled = False\n",
        "    submit_button.disabled = False\n",
        "    edit_button.disabled = True\n",
        "\n",
        "# Create input fields with initial disabled state for edit button\n",
        "first_name_input = widgets.Text(description=\"First Name\")\n",
        "second_name_input = widgets.Text(description=\"Second Name\")\n",
        "height_input = widgets.BoundedFloatText(value=150, min=100, max=300, description=\"Height (cm)\")\n",
        "gender_input = widgets.RadioButtons(\n",
        "    options=['Male', 'Female'],\n",
        "    value='Male',  # Default value\n",
        "    description='Gender'\n",
        ")\n",
        "dob_input = widgets.DatePicker(description='Date of Birth')\n",
        "\n",
        "submit_button = widgets.Button(description=\"Submit\")\n",
        "edit_button = widgets.Button(description=\"Edit\", disabled=True)\n",
        "\n",
        "# Attach button event handlers\n",
        "submit_button.on_click(on_submit)\n",
        "edit_button.on_click(on_edit)\n",
        "\n",
        "###\n",
        "\n",
        "# Display the widgets\n",
        "display(first_name_input, second_name_input, height_input, gender_input, dob_input, submit_button, edit_button)\n"
      ]
    },
    {
      "cell_type": "markdown",
      "source": [
        "# This part will provide the data about the others"
      ],
      "metadata": {
        "id": "bjC-agIRLXO7"
      }
    },
    {
      "cell_type": "code",
      "source": [
        "import matplotlib.pyplot as plt\n",
        "import ipywidgets as widgets\n",
        "from IPython.display import display, clear_output\n",
        "\n",
        "# Function to fetch data from MongoDB and return it as a list\n",
        "def fetch_users_data():\n",
        "    users = collection.find()\n",
        "    users_data = []\n",
        "    for user in users:\n",
        "        users_data.append({\n",
        "            'First Name': user['First Name'],\n",
        "            'Second Name': user['Second Name'],\n",
        "            'Height': user['Height']\n",
        "        })\n",
        "    return users_data\n",
        "\n",
        "# Function to update the plot with data fetched from MongoDB\n",
        "def update_plot():\n",
        "    users_data = fetch_users_data()\n",
        "    if users_data:\n",
        "        first_names = [f\"{user['First Name']} {user['Second Name']}\" for user in users_data]\n",
        "        heights = [user['Height'] for user in users_data]\n",
        "\n",
        "        plt.figure(figsize=(8,6))\n",
        "        plt.bar(first_names, heights, color='skyblue')\n",
        "        plt.xlabel('Full Name')\n",
        "        plt.ylabel('Height (cm)')\n",
        "        plt.title('User Heights')\n",
        "        plt.xticks(rotation=45)\n",
        "        plt.show()\n",
        "\n",
        "# Function to handle the 'Compare to others' button click\n",
        "def on_compare(b):\n",
        "    clear_output(wait=True)\n",
        "    update_plot()\n",
        "\n",
        "# Create the 'Compare to others' button\n",
        "compare_button = widgets.Button(description=\"Compare to others\")\n",
        "\n",
        "# Attach the event handler to the button\n",
        "compare_button.on_click(on_compare)\n",
        "\n",
        "# Display the button\n",
        "display(compare_button)\n"
      ],
      "metadata": {
        "colab": {
          "base_uri": "https://localhost:8080/",
          "height": 636,
          "referenced_widgets": [
            "27ae8cf482054f9fa63c91db3813abba",
            "fedaa0adb87b4778a06c8b147391c38f",
            "dbb8ab2df3ec4a7788edcaf86daef6e3"
          ]
        },
        "id": "0qcGMjgkbeqh",
        "outputId": "33774f1a-ffb2-49bf-9746-42e4662698c6"
      },
      "execution_count": 3,
      "outputs": [
        {
          "output_type": "display_data",
          "data": {
            "text/plain": [
              "<Figure size 800x600 with 1 Axes>"
            ],
            "image/png": "[encoded data removed]"
          },
          "metadata": {}
        }
      ]
    },
    {
      "cell_type": "markdown",
      "source": [
        "# World Health Organization comparing"
      ],
      "metadata": {
        "id": "pNSJwXQXLw3k"
      }
    },
    {
      "cell_type": "code",
      "source": [
        "import requests\n",
        "import pandas as pd\n",
        "import matplotlib.pyplot as plt\n",
        "\n",
        "\n",
        "\n",
        "# Calculate the difference in years and months\n",
        "def calculate_age_in_months(dob, current_date):\n",
        "    years_diff = current_date.year - dob.year\n",
        "    months_diff = current_date.month - dob.month\n",
        "\n",
        "    # Adjust for the case where the current month is before the birth month\n",
        "    if months_diff < 0:\n",
        "        years_diff -= 1\n",
        "        months_diff += 12\n",
        "\n",
        "    # Total months\n",
        "    total_months = years_diff * 12 + months_diff\n",
        "    return total_months\n",
        "\n",
        "\n",
        "\n",
        "# URLs for boys and girls height data\n",
        "boys_url = \"https://cdn.who.int/media/docs/default-source/child-growth/growth-reference-5-19-years/height-for-age-(5-19-years)/hfa-boys-z-who-2007-exp.xlsx?sfvrsn=7fa263d_2\"\n",
        "girls_url = \"https://cdn.who.int/media/docs/default-source/child-growth/growth-reference-5-19-years/height-for-age-(5-19-years)/hfa-girls-z-who-2007-exp.xlsx?sfvrsn=79d310ee_2\"\n",
        "\n",
        "# Gender input value from the first part of the form (Male or Female)\n",
        "user_gender = gender_input.value  # Assuming this comes from the form\n",
        "custom_label_uname = f\"{first_name_input.value} {second_name_input.value} 's data\"\n",
        "# Step 1: Choose the appropriate URL based on gender\n",
        "if user_gender == \"Male\":\n",
        "    url = boys_url\n",
        "    custom_title='Height vs. Age for Boys: 5 to 19 years'\n",
        "elif user_gender == \"Female\":\n",
        "    url = girls_url\n",
        "    custom_title='Height vs. Age for Girls: 5 to 19 years'\n",
        "else:\n",
        "    raise ValueError(\"Invalid gender selected. Please select either Male or Female.\")\n",
        "\n",
        "response = requests.get(url)\n",
        "\n",
        "# Step 2: Download the file from the chosen URL\n",
        "response = requests.get(url)\n",
        "\n",
        "# Step 3: Save the file locally\n",
        "file_name = \"height_for_age_data.xlsx\"\n",
        "with open(file_name, \"wb\") as file:\n",
        "    file.write(response.content)\n",
        "\n",
        "# Step 4: Read the Excel file into a DataFrame, skipping the first row\n",
        "df = pd.read_excel(file_name)\n",
        "\n",
        "# Step 5: Plot 'M' (height) on the Y-axis and 'Month/12' (age in years) on the X-axis\n",
        "x_values = df['Month']/12  # Convert age in months to years\n",
        "y_values1 = df['SD1neg']  # Height values\n",
        "y_values2 = df['SD0']  # Height values\n",
        "y_values3 = df['SD1']  # Height values\n",
        "\n",
        "# Step 6: Plot the data from the DataFrame\n",
        "plt.figure(figsize=(10, 6))\n",
        "plt.plot(x_values, y_values1, label='Height vs. Age Mean - SD', color='green')\n",
        "plt.plot(x_values, y_values2, label='Height vs. Age Mean', color='blue')\n",
        "plt.plot(x_values, y_values3, label='Height vs. Age + SD', color='green')\n",
        "\n",
        "# Step 7: Plot the current user's height as a dot\n",
        "current_user_height = height_input.value  # Replace with the actual height value of the current user\n",
        "# Calculate the age in months\n",
        "dob = dob_input.value  # Retrieve the date from the DatePicker widget\n",
        "# Get the current date\n",
        "current_date = datetime.today().date()\n",
        "age_in_months = calculate_age_in_months(dob, current_date)\n",
        "current_user_age = age_in_months/12  # Replace with the actual age of the current user in years\n",
        "plt.scatter(current_user_age, current_user_height, color='red', label=custom_label_uname)\n",
        "\n",
        "# Step 8: Labels, Title, and Legends\n",
        "plt.xlabel('Age (Years)')\n",
        "plt.ylabel('Height (M)')\n",
        "plt.title(custom_title)\n",
        "plt.legend()\n",
        "\n",
        "# Display the plot\n",
        "plt.show()\n",
        "\n",
        "\n"
      ],
      "metadata": {
        "colab": {
          "base_uri": "https://localhost:8080/",
          "height": 564
        },
        "id": "0cEdFhZJRYy7",
        "outputId": "185d8b91-35ad-46fb-d3ef-cabd003a8af1"
      },
      "execution_count": 20,
      "outputs": [
        {
          "output_type": "display_data",
          "data": {
            "text/plain": [
              "<Figure size 1000x600 with 1 Axes>"
            ],
            "image/png": "[encoded data removed]"
          },
          "metadata": {}
        }
      ]
    }
  ]
}