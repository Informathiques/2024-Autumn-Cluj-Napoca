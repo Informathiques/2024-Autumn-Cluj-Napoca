{
  "nbformat": 4,
  "nbformat_minor": 0,
  "metadata": {
    "colab": {
      "provenance": [],
      "collapsed_sections": [
        "9zZkz-12c6Z6",
        "bjC-agIRLXO7",
        "pNSJwXQXLw3k"
      ],
      "authorship_tag": "ABX9TyPuQcsRlJQ23OyY/mW5ursA",
      "include_colab_link": true
    },
    "kernelspec": {
      "name": "python3",
      "display_name": "Python 3"
    },
    "language_info": {
      "name": "python"
    },
    "widgets": {
      "application/vnd.jupyter.widget-state+json": {
        "6e0434f90061408fb065d582b885382d": {
          "model_module": "@jupyter-widgets/controls",
          "model_name": "TextModel",
          "model_module_version": "1.5.0",
          "state": {
            "_dom_classes": [],
            "_model_module": "@jupyter-widgets/controls",
            "_model_module_version": "1.5.0",
            "_model_name": "TextModel",
            "_view_count": null,
            "_view_module": "@jupyter-widgets/controls",
            "_view_module_version": "1.5.0",
            "_view_name": "TextView",
            "continuous_update": true,
            "description": "First Name",
            "description_tooltip": null,
            "disabled": true,
            "layout": "IPY_MODEL_4a5d92a1434a4ba897d893b7ad81e9c4",
            "placeholder": "​",
            "style": "IPY_MODEL_2221aa2b1bd24b9ebac1fd71570aab5a",
            "value": "First"
          }
        },
        "4a5d92a1434a4ba897d893b7ad81e9c4": {
          "model_module": "@jupyter-widgets/base",
          "model_name": "LayoutModel",
          "model_module_version": "1.2.0",
          "state": {
            "_model_module": "@jupyter-widgets/base",
            "_model_module_version": "1.2.0",
            "_model_name": "LayoutModel",
            "_view_count": null,
            "_view_module": "@jupyter-widgets/base",
            "_view_module_version": "1.2.0",
            "_view_name": "LayoutView",
            "align_content": null,
            "align_items": null,
            "align_self": null,
            "border": null,
            "bottom": null,
            "display": null,
            "flex": null,
            "flex_flow": null,
            "grid_area": null,
            "grid_auto_columns": null,
            "grid_auto_flow": null,
            "grid_auto_rows": null,
            "grid_column": null,
            "grid_gap": null,
            "grid_row": null,
            "grid_template_areas": null,
            "grid_template_columns": null,
            "grid_template_rows": null,
            "height": null,
            "justify_content": null,
            "justify_items": null,
            "left": null,
            "margin": null,
            "max_height": null,
            "max_width": null,
            "min_height": null,
            "min_width": null,
            "object_fit": null,
            "object_position": null,
            "order": null,
            "overflow": null,
            "overflow_x": null,
            "overflow_y": null,
            "padding": null,
            "right": null,
            "top": null,
            "visibility": null,
            "width": null
          }
        },
        "2221aa2b1bd24b9ebac1fd71570aab5a": {
          "model_module": "@jupyter-widgets/controls",
          "model_name": "DescriptionStyleModel",
          "model_module_version": "1.5.0",
          "state": {
            "_model_module": "@jupyter-widgets/controls",
            "_model_module_version": "1.5.0",
            "_model_name": "DescriptionStyleModel",
            "_view_count": null,
            "_view_module": "@jupyter-widgets/base",
            "_view_module_version": "1.2.0",
            "_view_name": "StyleView",
            "description_width": ""
          }
        },
        "ede655cda6e04700a951f96e25edd9fe": {
          "model_module": "@jupyter-widgets/controls",
          "model_name": "TextModel",
          "model_module_version": "1.5.0",
          "state": {
            "_dom_classes": [],
            "_model_module": "@jupyter-widgets/controls",
            "_model_module_version": "1.5.0",
            "_model_name": "TextModel",
            "_view_count": null,
            "_view_module": "@jupyter-widgets/controls",
            "_view_module_version": "1.5.0",
            "_view_name": "TextView",
            "continuous_update": true,
            "description": "Second Name",
            "description_tooltip": null,
            "disabled": true,
            "layout": "IPY_MODEL_e8f30935aef14c859e0fbacc16a4d7ce",
            "placeholder": "​",
            "style": "IPY_MODEL_3e96494b8e9541bfa0e831a0b1fe718c",
            "value": "NAME"
          }
        },
        "e8f30935aef14c859e0fbacc16a4d7ce": {
          "model_module": "@jupyter-widgets/base",
          "model_name": "LayoutModel",
          "model_module_version": "1.2.0",
          "state": {
            "_model_module": "@jupyter-widgets/base",
            "_model_module_version": "1.2.0",
            "_model_name": "LayoutModel",
            "_view_count": null,
            "_view_module": "@jupyter-widgets/base",
            "_view_module_version": "1.2.0",
            "_view_name": "LayoutView",
            "align_content": null,
            "align_items": null,
            "align_self": null,
            "border": null,
            "bottom": null,
            "display": null,
            "flex": null,
            "flex_flow": null,
            "grid_area": null,
            "grid_auto_columns": null,
            "grid_auto_flow": null,
            "grid_auto_rows": null,
            "grid_column": null,
            "grid_gap": null,
            "grid_row": null,
            "grid_template_areas": null,
            "grid_template_columns": null,
            "grid_template_rows": null,
            "height": null,
            "justify_content": null,
            "justify_items": null,
            "left": null,
            "margin": null,
            "max_height": null,
            "max_width": null,
            "min_height": null,
            "min_width": null,
            "object_fit": null,
            "object_position": null,
            "order": null,
            "overflow": null,
            "overflow_x": null,
            "overflow_y": null,
            "padding": null,
            "right": null,
            "top": null,
            "visibility": null,
            "width": null
          }
        },
        "3e96494b8e9541bfa0e831a0b1fe718c": {
          "model_module": "@jupyter-widgets/controls",
          "model_name": "DescriptionStyleModel",
          "model_module_version": "1.5.0",
          "state": {
            "_model_module": "@jupyter-widgets/controls",
            "_model_module_version": "1.5.0",
            "_model_name": "DescriptionStyleModel",
            "_view_count": null,
            "_view_module": "@jupyter-widgets/base",
            "_view_module_version": "1.2.0",
            "_view_name": "StyleView",
            "description_width": ""
          }
        },
        "7907c76dce6c456ca5dd3a2b3cdf60e4": {
          "model_module": "@jupyter-widgets/controls",
          "model_name": "BoundedFloatTextModel",
          "model_module_version": "1.5.0",
          "state": {
            "_dom_classes": [],
            "_model_module": "@jupyter-widgets/controls",
            "_model_module_version": "1.5.0",
            "_model_name": "BoundedFloatTextModel",
            "_view_count": null,
            "_view_module": "@jupyter-widgets/controls",
            "_view_module_version": "1.5.0",
            "_view_name": "FloatTextView",
            "continuous_update": false,
            "description": "Height (cm)",
            "description_tooltip": null,
            "disabled": true,
            "layout": "IPY_MODEL_05478d733c4d4e7281ab8ffbf718dbf1",
            "max": 300,
            "min": 100,
            "step": null,
            "style": "IPY_MODEL_90361fbd95ed4656844637f2add63b5f",
            "value": 168
          }
        },
        "05478d733c4d4e7281ab8ffbf718dbf1": {
          "model_module": "@jupyter-widgets/base",
          "model_name": "LayoutModel",
          "model_module_version": "1.2.0",
          "state": {
            "_model_module": "@jupyter-widgets/base",
            "_model_module_version": "1.2.0",
            "_model_name": "LayoutModel",
            "_view_count": null,
            "_view_module": "@jupyter-widgets/base",
            "_view_module_version": "1.2.0",
            "_view_name": "LayoutView",
            "align_content": null,
            "align_items": null,
            "align_self": null,
            "border": null,
            "bottom": null,
            "display": null,
            "flex": null,
            "flex_flow": null,
            "grid_area": null,
            "grid_auto_columns": null,
            "grid_auto_flow": null,
            "grid_auto_rows": null,
            "grid_column": null,
            "grid_gap": null,
            "grid_row": null,
            "grid_template_areas": null,
            "grid_template_columns": null,
            "grid_template_rows": null,
            "height": null,
            "justify_content": null,
            "justify_items": null,
            "left": null,
            "margin": null,
            "max_height": null,
            "max_width": null,
            "min_height": null,
            "min_width": null,
            "object_fit": null,
            "object_position": null,
            "order": null,
            "overflow": null,
            "overflow_x": null,
            "overflow_y": null,
            "padding": null,
            "right": null,
            "top": null,
            "visibility": null,
            "width": null
          }
        },
        "90361fbd95ed4656844637f2add63b5f": {
          "model_module": "@jupyter-widgets/controls",
          "model_name": "DescriptionStyleModel",
          "model_module_version": "1.5.0",
          "state": {
            "_model_module": "@jupyter-widgets/controls",
            "_model_module_version": "1.5.0",
            "_model_name": "DescriptionStyleModel",
            "_view_count": null,
            "_view_module": "@jupyter-widgets/base",
            "_view_module_version": "1.2.0",
            "_view_name": "StyleView",
            "description_width": ""
          }
        },
        "805cce2318134b9d9ead01331c9ec9eb": {
          "model_module": "@jupyter-widgets/controls",
          "model_name": "RadioButtonsModel",
          "model_module_version": "1.5.0",
          "state": {
            "_dom_classes": [],
            "_model_module": "@jupyter-widgets/controls",
            "_model_module_version": "1.5.0",
            "_model_name": "RadioButtonsModel",
            "_options_labels": [
              "Male",
              "Female"
            ],
            "_view_count": null,
            "_view_module": "@jupyter-widgets/controls",
            "_view_module_version": "1.5.0",
            "_view_name": "RadioButtonsView",
            "description": "Gender",
            "description_tooltip": null,
            "disabled": true,
            "index": 0,
            "layout": "IPY_MODEL_91955a9d1d4f482abe63338d514ae58b",
            "style": "IPY_MODEL_d01c658cd0414baf8f92619fb9807924"
          }
        },
        "91955a9d1d4f482abe63338d514ae58b": {
          "model_module": "@jupyter-widgets/base",
          "model_name": "LayoutModel",
          "model_module_version": "1.2.0",
          "state": {
            "_model_module": "@jupyter-widgets/base",
            "_model_module_version": "1.2.0",
            "_model_name": "LayoutModel",
            "_view_count": null,
            "_view_module": "@jupyter-widgets/base",
            "_view_module_version": "1.2.0",
            "_view_name": "LayoutView",
            "align_content": null,
            "align_items": null,
            "align_self": null,
            "border": null,
            "bottom": null,
            "display": null,
            "flex": null,
            "flex_flow": null,
            "grid_area": null,
            "grid_auto_columns": null,
            "grid_auto_flow": null,
            "grid_auto_rows": null,
            "grid_column": null,
            "grid_gap": null,
            "grid_row": null,
            "grid_template_areas": null,
            "grid_template_columns": null,
            "grid_template_rows": null,
            "height": null,
            "justify_content": null,
            "justify_items": null,
            "left": null,
            "margin": null,
            "max_height": null,
            "max_width": null,
            "min_height": null,
            "min_width": null,
            "object_fit": null,
            "object_position": null,
            "order": null,
            "overflow": null,
            "overflow_x": null,
            "overflow_y": null,
            "padding": null,
            "right": null,
            "top": null,
            "visibility": null,
            "width": null
          }
        },
        "d01c658cd0414baf8f92619fb9807924": {
          "model_module": "@jupyter-widgets/controls",
          "model_name": "DescriptionStyleModel",
          "model_module_version": "1.5.0",
          "state": {
            "_model_module": "@jupyter-widgets/controls",
            "_model_module_version": "1.5.0",
            "_model_name": "DescriptionStyleModel",
            "_view_count": null,
            "_view_module": "@jupyter-widgets/base",
            "_view_module_version": "1.2.0",
            "_view_name": "StyleView",
            "description_width": ""
          }
        },
        "ace3809469ef43fa8d0ba696cc7df501": {
          "model_module": "@jupyter-widgets/controls",
          "model_name": "DatePickerModel",
          "model_module_version": "1.5.0",
          "state": {
            "_dom_classes": [],
            "_model_module": "@jupyter-widgets/controls",
            "_model_module_version": "1.5.0",
            "_model_name": "DatePickerModel",
            "_view_count": null,
            "_view_module": "@jupyter-widgets/controls",
            "_view_module_version": "1.5.0",
            "_view_name": "DatePickerView",
            "description": "Date of Birth",
            "description_tooltip": null,
            "disabled": true,
            "layout": "IPY_MODEL_546c6747fd234de7b5d49a410c9b79af",
            "style": "IPY_MODEL_51e6fc78fb5a4f049f648cce59d61a85",
            "value": {
              "year": 2029,
              "month": 1,
              "date": 22
            }
          }
        },
        "546c6747fd234de7b5d49a410c9b79af": {
          "model_module": "@jupyter-widgets/base",
          "model_name": "LayoutModel",
          "model_module_version": "1.2.0",
          "state": {
            "_model_module": "@jupyter-widgets/base",
            "_model_module_version": "1.2.0",
            "_model_name": "LayoutModel",
            "_view_count": null,
            "_view_module": "@jupyter-widgets/base",
            "_view_module_version": "1.2.0",
            "_view_name": "LayoutView",
            "align_content": null,
            "align_items": null,
            "align_self": null,
            "border": null,
            "bottom": null,
            "display": null,
            "flex": null,
            "flex_flow": null,
            "grid_area": null,
            "grid_auto_columns": null,
            "grid_auto_flow": null,
            "grid_auto_rows": null,
            "grid_column": null,
            "grid_gap": null,
            "grid_row": null,
            "grid_template_areas": null,
            "grid_template_columns": null,
            "grid_template_rows": null,
            "height": null,
            "justify_content": null,
            "justify_items": null,
            "left": null,
            "margin": null,
            "max_height": null,
            "max_width": null,
            "min_height": null,
            "min_width": null,
            "object_fit": null,
            "object_position": null,
            "order": null,
            "overflow": null,
            "overflow_x": null,
            "overflow_y": null,
            "padding": null,
            "right": null,
            "top": null,
            "visibility": null,
            "width": null
          }
        },
        "51e6fc78fb5a4f049f648cce59d61a85": {
          "model_module": "@jupyter-widgets/controls",
          "model_name": "DescriptionStyleModel",
          "model_module_version": "1.5.0",
          "state": {
            "_model_module": "@jupyter-widgets/controls",
            "_model_module_version": "1.5.0",
            "_model_name": "DescriptionStyleModel",
            "_view_count": null,
            "_view_module": "@jupyter-widgets/base",
            "_view_module_version": "1.2.0",
            "_view_name": "StyleView",
            "description_width": ""
          }
        },
        "28444655789d4242aed323afd8ced6e3": {
          "model_module": "@jupyter-widgets/controls",
          "model_name": "ButtonModel",
          "model_module_version": "1.5.0",
          "state": {
            "_dom_classes": [],
            "_model_module": "@jupyter-widgets/controls",
            "_model_module_version": "1.5.0",
            "_model_name": "ButtonModel",
            "_view_count": null,
            "_view_module": "@jupyter-widgets/controls",
            "_view_module_version": "1.5.0",
            "_view_name": "ButtonView",
            "button_style": "",
            "description": "Submit",
            "disabled": true,
            "icon": "",
            "layout": "IPY_MODEL_63f05637b352409fb5a2603c7e52b27a",
            "style": "IPY_MODEL_4adea1f404964b6c9b57b40855098c85",
            "tooltip": ""
          }
        },
        "63f05637b352409fb5a2603c7e52b27a": {
          "model_module": "@jupyter-widgets/base",
          "model_name": "LayoutModel",
          "model_module_version": "1.2.0",
          "state": {
            "_model_module": "@jupyter-widgets/base",
            "_model_module_version": "1.2.0",
            "_model_name": "LayoutModel",
            "_view_count": null,
            "_view_module": "@jupyter-widgets/base",
            "_view_module_version": "1.2.0",
            "_view_name": "LayoutView",
            "align_content": null,
            "align_items": null,
            "align_self": null,
            "border": null,
            "bottom": null,
            "display": null,
            "flex": null,
            "flex_flow": null,
            "grid_area": null,
            "grid_auto_columns": null,
            "grid_auto_flow": null,
            "grid_auto_rows": null,
            "grid_column": null,
            "grid_gap": null,
            "grid_row": null,
            "grid_template_areas": null,
            "grid_template_columns": null,
            "grid_template_rows": null,
            "height": null,
            "justify_content": null,
            "justify_items": null,
            "left": null,
            "margin": null,
            "max_height": null,
            "max_width": null,
            "min_height": null,
            "min_width": null,
            "object_fit": null,
            "object_position": null,
            "order": null,
            "overflow": null,
            "overflow_x": null,
            "overflow_y": null,
            "padding": null,
            "right": null,
            "top": null,
            "visibility": null,
            "width": null
          }
        },
        "4adea1f404964b6c9b57b40855098c85": {
          "model_module": "@jupyter-widgets/controls",
          "model_name": "ButtonStyleModel",
          "model_module_version": "1.5.0",
          "state": {
            "_model_module": "@jupyter-widgets/controls",
            "_model_module_version": "1.5.0",
            "_model_name": "ButtonStyleModel",
            "_view_count": null,
            "_view_module": "@jupyter-widgets/base",
            "_view_module_version": "1.2.0",
            "_view_name": "StyleView",
            "button_color": null,
            "font_weight": ""
          }
        },
        "3babe726e49a44b39d25b29e17f72ddb": {
          "model_module": "@jupyter-widgets/controls",
          "model_name": "ButtonModel",
          "model_module_version": "1.5.0",
          "state": {
            "_dom_classes": [],
            "_model_module": "@jupyter-widgets/controls",
            "_model_module_version": "1.5.0",
            "_model_name": "ButtonModel",
            "_view_count": null,
            "_view_module": "@jupyter-widgets/controls",
            "_view_module_version": "1.5.0",
            "_view_name": "ButtonView",
            "button_style": "",
            "description": "Edit",
            "disabled": false,
            "icon": "",
            "layout": "IPY_MODEL_de02073e63c347a4880440fced23b3c7",
            "style": "IPY_MODEL_efcf3b8b9fa14e67b3b75a046eb49e91",
            "tooltip": ""
          }
        },
        "de02073e63c347a4880440fced23b3c7": {
          "model_module": "@jupyter-widgets/base",
          "model_name": "LayoutModel",
          "model_module_version": "1.2.0",
          "state": {
            "_model_module": "@jupyter-widgets/base",
            "_model_module_version": "1.2.0",
            "_model_name": "LayoutModel",
            "_view_count": null,
            "_view_module": "@jupyter-widgets/base",
            "_view_module_version": "1.2.0",
            "_view_name": "LayoutView",
            "align_content": null,
            "align_items": null,
            "align_self": null,
            "border": null,
            "bottom": null,
            "display": null,
            "flex": null,
            "flex_flow": null,
            "grid_area": null,
            "grid_auto_columns": null,
            "grid_auto_flow": null,
            "grid_auto_rows": null,
            "grid_column": null,
            "grid_gap": null,
            "grid_row": null,
            "grid_template_areas": null,
            "grid_template_columns": null,
            "grid_template_rows": null,
            "height": null,
            "justify_content": null,
            "justify_items": null,
            "left": null,
            "margin": null,
            "max_height": null,
            "max_width": null,
            "min_height": null,
            "min_width": null,
            "object_fit": null,
            "object_position": null,
            "order": null,
            "overflow": null,
            "overflow_x": null,
            "overflow_y": null,
            "padding": null,
            "right": null,
            "top": null,
            "visibility": null,
            "width": null
          }
        },
        "efcf3b8b9fa14e67b3b75a046eb49e91": {
          "model_module": "@jupyter-widgets/controls",
          "model_name": "ButtonStyleModel",
          "model_module_version": "1.5.0",
          "state": {
            "_model_module": "@jupyter-widgets/controls",
            "_model_module_version": "1.5.0",
            "_model_name": "ButtonStyleModel",
            "_view_count": null,
            "_view_module": "@jupyter-widgets/base",
            "_view_module_version": "1.2.0",
            "_view_name": "StyleView",
            "button_color": null,
            "font_weight": ""
          }
        },
        "c895664587de44e3bcf29e7d8023db12": {
          "model_module": "@jupyter-widgets/controls",
          "model_name": "ButtonModel",
          "model_module_version": "1.5.0",
          "state": {
            "_dom_classes": [],
            "_model_module": "@jupyter-widgets/controls",
            "_model_module_version": "1.5.0",
            "_model_name": "ButtonModel",
            "_view_count": null,
            "_view_module": "@jupyter-widgets/controls",
            "_view_module_version": "1.5.0",
            "_view_name": "ButtonView",
            "button_style": "",
            "description": "Compare to others",
            "disabled": false,
            "icon": "",
            "layout": "IPY_MODEL_2694878f5baa44f7925634b035c4d199",
            "style": "IPY_MODEL_8c6bde6426c8414ba0d97d1c9168e5b0",
            "tooltip": ""
          }
        },
        "2694878f5baa44f7925634b035c4d199": {
          "model_module": "@jupyter-widgets/base",
          "model_name": "LayoutModel",
          "model_module_version": "1.2.0",
          "state": {
            "_model_module": "@jupyter-widgets/base",
            "_model_module_version": "1.2.0",
            "_model_name": "LayoutModel",
            "_view_count": null,
            "_view_module": "@jupyter-widgets/base",
            "_view_module_version": "1.2.0",
            "_view_name": "LayoutView",
            "align_content": null,
            "align_items": null,
            "align_self": null,
            "border": null,
            "bottom": null,
            "display": null,
            "flex": null,
            "flex_flow": null,
            "grid_area": null,
            "grid_auto_columns": null,
            "grid_auto_flow": null,
            "grid_auto_rows": null,
            "grid_column": null,
            "grid_gap": null,
            "grid_row": null,
            "grid_template_areas": null,
            "grid_template_columns": null,
            "grid_template_rows": null,
            "height": null,
            "justify_content": null,
            "justify_items": null,
            "left": null,
            "margin": null,
            "max_height": null,
            "max_width": null,
            "min_height": null,
            "min_width": null,
            "object_fit": null,
            "object_position": null,
            "order": null,
            "overflow": null,
            "overflow_x": null,
            "overflow_y": null,
            "padding": null,
            "right": null,
            "top": null,
            "visibility": null,
            "width": null
          }
        },
        "8c6bde6426c8414ba0d97d1c9168e5b0": {
          "model_module": "@jupyter-widgets/controls",
          "model_name": "ButtonStyleModel",
          "model_module_version": "1.5.0",
          "state": {
            "_model_module": "@jupyter-widgets/controls",
            "_model_module_version": "1.5.0",
            "_model_name": "ButtonStyleModel",
            "_view_count": null,
            "_view_module": "@jupyter-widgets/base",
            "_view_module_version": "1.2.0",
            "_view_name": "StyleView",
            "button_color": null,
            "font_weight": ""
          }
        }
      }
    }
  },
  "cells": [
    {
      "cell_type": "markdown",
      "metadata": {
        "id": "view-in-github",
        "colab_type": "text"
      },
      "source": [
        "<a href=\"https://colab.research.google.com/github/Informathiques/2024-Autumn-Cluj-Napoca/blob/main/helloWorld.ipynb\" target=\"_parent\"><img src=\"https://colab.research.google.com/assets/colab-badge.svg\" alt=\"Open In Colab\"/></a>"
      ]
    },
    {
      "cell_type": "markdown",
      "source": [
        "# This is a service part, please simply run it"
      ],
      "metadata": {
        "id": "_6O6j6V2cxdS"
      }
    },
    {
      "cell_type": "code",
      "source": [
        "!pip install pymongo[srv] 2&>1 >  /dev/null\n",
        "\n",
        "from google.colab import userdata\n",
        "\n",
        "import base64\n",
        "\n",
        "uri = \"bW9uZ29kYitzcnY6Ly9pbmZyb21hdGhpcXVlczpkRk91WTZYaWFRNjhxeE5KQGluZm9ybWF0aGlxdWVzLjgzanFlLm1vbmdvZGIubmV0Lz9yZXRyeVdyaXRlcz10cnVlJnc9bWFqb3JpdHkmc3NsPXRydWUmdGxzQWxsb3dJbnZhbGlkQ2VydGlmaWNhdGVzPXRydWU=\"\n",
        "\n",
        "MONGO_URI = userdata.get('SMONGO_URI')\n",
        "# Step 2: If the environment variable is empty or None, decode the base64-encoded URI\n",
        "if not MONGO_URI:\n",
        "    print(\"Environment variable 'SMONGO_URI' is missing or empty, falling back to the base64-encoded URI.\")\n",
        "    MONGO_URI = base64.b64decode(uri).decode('utf-8')\n",
        "else:\n",
        "    print(\"Environment variable 'SMONGO_URI' reading success\")\n",
        "\n"
      ],
      "metadata": {
        "colab": {
          "base_uri": "https://localhost:8080/"
        },
        "id": "zGUr1ECOF4-V",
        "outputId": "0ad60325-cf88-4b5d-bc24-ec36f7d075ff"
      },
      "execution_count": 1,
      "outputs": [
        {
          "output_type": "stream",
          "name": "stdout",
          "text": [
            "Environment variable 'SMONGO_URI' reading success\n"
          ]
        }
      ]
    },
    {
      "cell_type": "markdown",
      "source": [
        "# This part of the code will ask you to enter some data about you"
      ],
      "metadata": {
        "id": "9zZkz-12c6Z6"
      }
    },
    {
      "cell_type": "code",
      "execution_count": 2,
      "metadata": {
        "colab": {
          "base_uri": "https://localhost:8080/",
          "height": 282,
          "referenced_widgets": [
            "6e0434f90061408fb065d582b885382d",
            "4a5d92a1434a4ba897d893b7ad81e9c4",
            "2221aa2b1bd24b9ebac1fd71570aab5a",
            "ede655cda6e04700a951f96e25edd9fe",
            "e8f30935aef14c859e0fbacc16a4d7ce",
            "3e96494b8e9541bfa0e831a0b1fe718c",
            "7907c76dce6c456ca5dd3a2b3cdf60e4",
            "05478d733c4d4e7281ab8ffbf718dbf1",
            "90361fbd95ed4656844637f2add63b5f",
            "805cce2318134b9d9ead01331c9ec9eb",
            "91955a9d1d4f482abe63338d514ae58b",
            "d01c658cd0414baf8f92619fb9807924",
            "ace3809469ef43fa8d0ba696cc7df501",
            "546c6747fd234de7b5d49a410c9b79af",
            "51e6fc78fb5a4f049f648cce59d61a85",
            "28444655789d4242aed323afd8ced6e3",
            "63f05637b352409fb5a2603c7e52b27a",
            "4adea1f404964b6c9b57b40855098c85",
            "3babe726e49a44b39d25b29e17f72ddb",
            "de02073e63c347a4880440fced23b3c7",
            "efcf3b8b9fa14e67b3b75a046eb49e91"
          ]
        },
        "id": "DnF46k-CSh5b",
        "outputId": "212f27a9-8aa6-4c09-ae6a-8a595713cccf"
      },
      "outputs": [
        {
          "output_type": "display_data",
          "data": {
            "text/plain": [
              "Text(value='', description='First Name')"
            ],
            "application/vnd.jupyter.widget-view+json": {
              "version_major": 2,
              "version_minor": 0,
              "model_id": "6e0434f90061408fb065d582b885382d"
            }
          },
          "metadata": {}
        },
        {
          "output_type": "display_data",
          "data": {
            "text/plain": [
              "Text(value='', description='Second Name')"
            ],
            "application/vnd.jupyter.widget-view+json": {
              "version_major": 2,
              "version_minor": 0,
              "model_id": "ede655cda6e04700a951f96e25edd9fe"
            }
          },
          "metadata": {}
        },
        {
          "output_type": "display_data",
          "data": {
            "text/plain": [
              "BoundedFloatText(value=150.0, description='Height (cm)', max=300.0, min=100.0)"
            ],
            "application/vnd.jupyter.widget-view+json": {
              "version_major": 2,
              "version_minor": 0,
              "model_id": "7907c76dce6c456ca5dd3a2b3cdf60e4"
            }
          },
          "metadata": {}
        },
        {
          "output_type": "display_data",
          "data": {
            "text/plain": [
              "RadioButtons(description='Gender', options=('Male', 'Female'), value='Male')"
            ],
            "application/vnd.jupyter.widget-view+json": {
              "version_major": 2,
              "version_minor": 0,
              "model_id": "805cce2318134b9d9ead01331c9ec9eb"
            }
          },
          "metadata": {}
        },
        {
          "output_type": "display_data",
          "data": {
            "text/plain": [
              "DatePicker(value=None, description='Date of Birth')"
            ],
            "application/vnd.jupyter.widget-view+json": {
              "version_major": 2,
              "version_minor": 0,
              "model_id": "ace3809469ef43fa8d0ba696cc7df501"
            }
          },
          "metadata": {}
        },
        {
          "output_type": "display_data",
          "data": {
            "text/plain": [
              "Button(description='Submit', style=ButtonStyle())"
            ],
            "application/vnd.jupyter.widget-view+json": {
              "version_major": 2,
              "version_minor": 0,
              "model_id": "28444655789d4242aed323afd8ced6e3"
            }
          },
          "metadata": {}
        },
        {
          "output_type": "display_data",
          "data": {
            "text/plain": [
              "Button(description='Edit', disabled=True, style=ButtonStyle())"
            ],
            "application/vnd.jupyter.widget-view+json": {
              "version_major": 2,
              "version_minor": 0,
              "model_id": "3babe726e49a44b39d25b29e17f72ddb"
            }
          },
          "metadata": {}
        },
        {
          "output_type": "stream",
          "name": "stdout",
          "text": [
            "User First NAME added to the database.\n"
          ]
        }
      ],
      "source": [
        "import pymongo\n",
        "from pymongo import MongoClient\n",
        "import ipywidgets as widgets\n",
        "from IPython.display import display, clear_output\n",
        "from datetime import datetime\n",
        "\n",
        "# MongoDB connection (Replace with your connection string)\n",
        "#MONGO_URI = \"mongodb+srv://<username>:<password>@cluster0.mongodb.net/myDatabase?retryWrites=true&w=majority\"\n",
        "client = MongoClient(MONGO_URI)\n",
        "db = client[\"myDatabase\"]  # Database name\n",
        "collection = db[\"users\"]  # Collection name\n",
        "\n",
        "# Global variable to store current user ID for editing\n",
        "current_user_id = None\n",
        "\n",
        "# Function to add or update user in MongoDB\n",
        "def add_or_update_user(first_name, second_name, height, gender, dob):\n",
        "    global current_user_id\n",
        "    # Convert the Date of Birth to datetime\n",
        "    dob_datetime = datetime.combine(dob, datetime.min.time()) if dob else None\n",
        "\n",
        "    user_data = {\n",
        "        \"First Name\": first_name,\n",
        "        \"Second Name\": second_name,\n",
        "        \"Height\": height,\n",
        "        \"Gender\": gender,\n",
        "        \"Date of Birth\": dob_datetime\n",
        "    }\n",
        "\n",
        "    if current_user_id is None:\n",
        "        # Insert new user\n",
        "        result = collection.insert_one(user_data)\n",
        "        current_user_id = result.inserted_id\n",
        "        print(f\"User {first_name} {second_name} added to the database.\")\n",
        "    else:\n",
        "        # Update existing user\n",
        "        collection.update_one({\"_id\": current_user_id}, {\"$set\": user_data})\n",
        "        print(f\"User {first_name} {second_name}'s data updated in the database.\")\n",
        "\n",
        "# Function to handle the submit action\n",
        "def on_submit(b):\n",
        "    global current_user_id\n",
        "    first_name = first_name_input.value\n",
        "    second_name = second_name_input.value\n",
        "    height = int(height_input.value)\n",
        "    gender = gender_input.value\n",
        "    dob = dob_input.value\n",
        "\n",
        "    # Insert or update the user data in MongoDB\n",
        "    add_or_update_user(first_name, second_name, height, gender, dob)\n",
        "\n",
        "    # Disable fields and activate edit button\n",
        "    first_name_input.disabled = True\n",
        "    second_name_input.disabled = True\n",
        "    height_input.disabled = True\n",
        "    gender_input.disabled = True\n",
        "    dob_input.disabled = True\n",
        "    submit_button.disabled = True\n",
        "    edit_button.disabled = False\n",
        "\n",
        "# Function to handle the edit action\n",
        "def on_edit(b):\n",
        "    # Enable fields and disable edit button\n",
        "    first_name_input.disabled = False\n",
        "    second_name_input.disabled = False\n",
        "    height_input.disabled = False\n",
        "    gender_input.disabled = False\n",
        "    dob_input.disabled = False\n",
        "    submit_button.disabled = False\n",
        "    edit_button.disabled = True\n",
        "\n",
        "# Create input fields with initial disabled state for edit button\n",
        "first_name_input = widgets.Text(description=\"First Name\")\n",
        "second_name_input = widgets.Text(description=\"Second Name\")\n",
        "height_input = widgets.BoundedFloatText(value=150, min=100, max=300, description=\"Height (cm)\")\n",
        "gender_input = widgets.RadioButtons(\n",
        "    options=['Male', 'Female'],\n",
        "    value='Male',  # Default value\n",
        "    description='Gender'\n",
        ")\n",
        "dob_input = widgets.DatePicker(description='Date of Birth')\n",
        "\n",
        "submit_button = widgets.Button(description=\"Submit\")\n",
        "edit_button = widgets.Button(description=\"Edit\", disabled=True)\n",
        "\n",
        "# Attach button event handlers\n",
        "submit_button.on_click(on_submit)\n",
        "edit_button.on_click(on_edit)\n",
        "\n",
        "###\n",
        "\n",
        "# Display the widgets\n",
        "display(first_name_input, second_name_input, height_input, gender_input, dob_input, submit_button, edit_button)\n"
      ]
    },
    {
      "cell_type": "markdown",
      "source": [
        "# This part will provide the data about the others"
      ],
      "metadata": {
        "id": "bjC-agIRLXO7"
      }
    },
    {
      "cell_type": "code",
      "source": [
        "import matplotlib.pyplot as plt\n",
        "import ipywidgets as widgets\n",
        "from IPython.display import display, clear_output\n",
        "\n",
        "# Function to fetch data from MongoDB and return it as a list\n",
        "def fetch_users_data():\n",
        "    users = collection.find()\n",
        "    users_data = []\n",
        "    for user in users:\n",
        "        users_data.append({\n",
        "            'First Name': user['First Name'],\n",
        "            'Second Name': user['Second Name'],\n",
        "            'Height': user['Height']\n",
        "        })\n",
        "    return users_data\n",
        "\n",
        "# Function to update the plot with data fetched from MongoDB\n",
        "def update_plot():\n",
        "    users_data = fetch_users_data()\n",
        "    if users_data:\n",
        "        first_names = [f\"{user['First Name']} {user['Second Name']}\" for user in users_data]\n",
        "        heights = [user['Height'] for user in users_data]\n",
        "\n",
        "        plt.figure(figsize=(8,6))\n",
        "        plt.bar(first_names, heights, color='skyblue')\n",
        "        plt.xlabel('Full Name')\n",
        "        plt.ylabel('Height (cm)')\n",
        "        plt.title('User Heights')\n",
        "        plt.xticks(rotation=45)\n",
        "        plt.show()\n",
        "\n",
        "# Function to handle the 'Compare to others' button click\n",
        "def on_compare(b):\n",
        "    clear_output(wait=True)\n",
        "    update_plot()\n",
        "\n",
        "# Create the 'Compare to others' button\n",
        "compare_button = widgets.Button(description=\"Compare to others\")\n",
        "\n",
        "# Attach the event handler to the button\n",
        "compare_button.on_click(on_compare)\n",
        "\n",
        "# Display the button\n",
        "display(compare_button)\n"
      ],
      "metadata": {
        "colab": {
          "base_uri": "https://localhost:8080/",
          "height": 613,
          "referenced_widgets": [
            "c895664587de44e3bcf29e7d8023db12",
            "2694878f5baa44f7925634b035c4d199",
            "8c6bde6426c8414ba0d97d1c9168e5b0"
          ]
        },
        "id": "0qcGMjgkbeqh",
        "outputId": "a64f500e-76a9-46af-9bb9-7ed4b60b7b8f"
      },
      "execution_count": 3,
      "outputs": [
        {
          "output_type": "display_data",
          "data": {
            "text/plain": [
              "<Figure size 800x600 with 1 Axes>"
            ],
            "image/png": "[encoded data removed]"
          },
          "metadata": {}
        }
      ]
    },
    {
      "cell_type": "markdown",
      "source": [
        "# World Health Organization comparing"
      ],
      "metadata": {
        "id": "pNSJwXQXLw3k"
      }
    },
    {
      "cell_type": "code",
      "source": [
        "import requests\n",
        "import pandas as pd\n",
        "import matplotlib.pyplot as plt\n",
        "\n",
        "\n",
        "\n",
        "# Calculate the difference in years and months\n",
        "def calculate_age_in_months(dob, current_date):\n",
        "    years_diff = current_date.year - dob.year\n",
        "    months_diff = current_date.month - dob.month\n",
        "\n",
        "    # Adjust for the case where the current month is before the birth month\n",
        "    if months_diff < 0:\n",
        "        years_diff -= 1\n",
        "        months_diff += 12\n",
        "\n",
        "    # Total months\n",
        "    total_months = years_diff * 12 + months_diff\n",
        "    return total_months\n",
        "\n",
        "\n",
        "\n",
        "# URLs for boys and girls height data\n",
        "boys_url = \"https://cdn.who.int/media/docs/default-source/child-growth/growth-reference-5-19-years/height-for-age-(5-19-years)/hfa-boys-z-who-2007-exp.xlsx?sfvrsn=7fa263d_2\"\n",
        "girls_url = \"https://cdn.who.int/media/docs/default-source/child-growth/growth-reference-5-19-years/height-for-age-(5-19-years)/hfa-girls-z-who-2007-exp.xlsx?sfvrsn=79d310ee_2\"\n",
        "\n",
        "# Gender input value from the first part of the form (Male or Female)\n",
        "user_gender = gender_input.value  # Assuming this comes from the form\n",
        "custom_label_uname = f\"{first_name_input.value} {second_name_input.value} 's data\"\n",
        "# Step 1: Choose the appropriate URL based on gender\n",
        "if user_gender == \"Male\":\n",
        "    url = boys_url\n",
        "    custom_title='Height vs. Age for Boys: 5 to 19 years'\n",
        "elif user_gender == \"Female\":\n",
        "    url = girls_url\n",
        "    custom_title='Height vs. Age for Girls: 5 to 19 years'\n",
        "else:\n",
        "    raise ValueError(\"Invalid gender selected. Please select either Male or Female.\")\n",
        "\n",
        "response = requests.get(url)\n",
        "\n",
        "# Step 2: Download the file from the chosen URL\n",
        "response = requests.get(url)\n",
        "\n",
        "# Step 3: Save the file locally\n",
        "file_name = \"height_for_age_data.xlsx\"\n",
        "with open(file_name, \"wb\") as file:\n",
        "    file.write(response.content)\n",
        "\n",
        "# Step 4: Read the Excel file into a DataFrame, skipping the first row\n",
        "df = pd.read_excel(file_name)\n",
        "\n",
        "# Step 5: Plot 'M' (height) on the Y-axis and 'Month/12' (age in years) on the X-axis\n",
        "x_values = df['Month']/12  # Convert age in months to years\n",
        "y_values1 = df['SD1neg']  # Height values\n",
        "y_values2 = df['SD0']  # Height values\n",
        "y_values3 = df['SD1']  # Height values\n",
        "\n",
        "# Step 6: Plot the data from the DataFrame\n",
        "plt.figure(figsize=(10, 6))\n",
        "plt.plot(x_values, y_values1, label='Height vs. Age Mean - SD', color='green')\n",
        "plt.plot(x_values, y_values2, label='Height vs. Age Mean', color='blue')\n",
        "plt.plot(x_values, y_values3, label='Height vs. Age + SD', color='green')\n",
        "\n",
        "# Step 7: Plot the current user's height as a dot\n",
        "current_user_height = height_input.value  # Replace with the actual height value of the current user\n",
        "# Calculate the age in months\n",
        "dob = dob_input.value  # Retrieve the date from the DatePicker widget\n",
        "# Get the current date\n",
        "current_date = datetime.today().date()\n",
        "age_in_months = calculate_age_in_months(dob, current_date)\n",
        "current_user_age = age_in_months/12  # Replace with the actual age of the current user in years\n",
        "plt.scatter(current_user_age, current_user_height, color='red', label=custom_label_uname)\n",
        "\n",
        "# Step 8: Labels, Title, and Legends\n",
        "plt.xlabel('Age (Years)')\n",
        "plt.ylabel('Height (M)')\n",
        "plt.title(custom_title)\n",
        "plt.legend()\n",
        "\n",
        "# Display the plot\n",
        "plt.show()\n",
        "\n",
        "\n"
      ],
      "metadata": {
        "colab": {
          "base_uri": "https://localhost:8080/",
          "height": 564
        },
        "id": "0cEdFhZJRYy7",
        "outputId": "93ed6a39-16dc-4138-80e5-3b599387bd69"
      },
      "execution_count": 4,
      "outputs": [
        {
          "output_type": "display_data",
          "data": {
            "text/plain": [
              "<Figure size 1000x600 with 1 Axes>"
            ],
            "image/png": "[encoded data removed]"
          },
          "metadata": {}
        }
      ]
    }
  ]
}