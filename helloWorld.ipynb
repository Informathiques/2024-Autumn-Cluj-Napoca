{
  "nbformat": 4,
  "nbformat_minor": 0,
  "metadata": {
    "colab": {
      "provenance": [],
      "authorship_tag": "ABX9TyOBjADyrknRvraRfuC2Oyev",
      "include_colab_link": true
    },
    "kernelspec": {
      "name": "python3",
      "display_name": "Python 3"
    },
    "language_info": {
      "name": "python"
    },
    "widgets": {
      "application/vnd.jupyter.widget-state+json": {
        "6298a5209da740a5994534faa4b3fc14": {
          "model_module": "@jupyter-widgets/controls",
          "model_name": "TextModel",
          "model_module_version": "1.5.0",
          "state": {
            "_dom_classes": [],
            "_model_module": "@jupyter-widgets/controls",
            "_model_module_version": "1.5.0",
            "_model_name": "TextModel",
            "_view_count": null,
            "_view_module": "@jupyter-widgets/controls",
            "_view_module_version": "1.5.0",
            "_view_name": "TextView",
            "continuous_update": true,
            "description": "First Name",
            "description_tooltip": null,
            "disabled": true,
            "layout": "IPY_MODEL_ba2e8992d4d74bdcbd68780204828f5e",
            "placeholder": "​",
            "style": "IPY_MODEL_fe931069aff74a99b4dc8b9411b402ae",
            "value": "Testoid"
          }
        },
        "ba2e8992d4d74bdcbd68780204828f5e": {
          "model_module": "@jupyter-widgets/base",
          "model_name": "LayoutModel",
          "model_module_version": "1.2.0",
          "state": {
            "_model_module": "@jupyter-widgets/base",
            "_model_module_version": "1.2.0",
            "_model_name": "LayoutModel",
            "_view_count": null,
            "_view_module": "@jupyter-widgets/base",
            "_view_module_version": "1.2.0",
            "_view_name": "LayoutView",
            "align_content": null,
            "align_items": null,
            "align_self": null,
            "border": null,
            "bottom": null,
            "display": null,
            "flex": null,
            "flex_flow": null,
            "grid_area": null,
            "grid_auto_columns": null,
            "grid_auto_flow": null,
            "grid_auto_rows": null,
            "grid_column": null,
            "grid_gap": null,
            "grid_row": null,
            "grid_template_areas": null,
            "grid_template_columns": null,
            "grid_template_rows": null,
            "height": null,
            "justify_content": null,
            "justify_items": null,
            "left": null,
            "margin": null,
            "max_height": null,
            "max_width": null,
            "min_height": null,
            "min_width": null,
            "object_fit": null,
            "object_position": null,
            "order": null,
            "overflow": null,
            "overflow_x": null,
            "overflow_y": null,
            "padding": null,
            "right": null,
            "top": null,
            "visibility": null,
            "width": null
          }
        },
        "fe931069aff74a99b4dc8b9411b402ae": {
          "model_module": "@jupyter-widgets/controls",
          "model_name": "DescriptionStyleModel",
          "model_module_version": "1.5.0",
          "state": {
            "_model_module": "@jupyter-widgets/controls",
            "_model_module_version": "1.5.0",
            "_model_name": "DescriptionStyleModel",
            "_view_count": null,
            "_view_module": "@jupyter-widgets/base",
            "_view_module_version": "1.2.0",
            "_view_name": "StyleView",
            "description_width": ""
          }
        },
        "08fd916d15d844409dd1915987f54ed5": {
          "model_module": "@jupyter-widgets/controls",
          "model_name": "TextModel",
          "model_module_version": "1.5.0",
          "state": {
            "_dom_classes": [],
            "_model_module": "@jupyter-widgets/controls",
            "_model_module_version": "1.5.0",
            "_model_name": "TextModel",
            "_view_count": null,
            "_view_module": "@jupyter-widgets/controls",
            "_view_module_version": "1.5.0",
            "_view_name": "TextView",
            "continuous_update": true,
            "description": "Second Name",
            "description_tooltip": null,
            "disabled": true,
            "layout": "IPY_MODEL_a6ba28470ff44b5f9776fb9b2f67b930",
            "placeholder": "​",
            "style": "IPY_MODEL_faeebc5ca0084d279560f20a4968b553",
            "value": "TESTARIUS"
          }
        },
        "a6ba28470ff44b5f9776fb9b2f67b930": {
          "model_module": "@jupyter-widgets/base",
          "model_name": "LayoutModel",
          "model_module_version": "1.2.0",
          "state": {
            "_model_module": "@jupyter-widgets/base",
            "_model_module_version": "1.2.0",
            "_model_name": "LayoutModel",
            "_view_count": null,
            "_view_module": "@jupyter-widgets/base",
            "_view_module_version": "1.2.0",
            "_view_name": "LayoutView",
            "align_content": null,
            "align_items": null,
            "align_self": null,
            "border": null,
            "bottom": null,
            "display": null,
            "flex": null,
            "flex_flow": null,
            "grid_area": null,
            "grid_auto_columns": null,
            "grid_auto_flow": null,
            "grid_auto_rows": null,
            "grid_column": null,
            "grid_gap": null,
            "grid_row": null,
            "grid_template_areas": null,
            "grid_template_columns": null,
            "grid_template_rows": null,
            "height": null,
            "justify_content": null,
            "justify_items": null,
            "left": null,
            "margin": null,
            "max_height": null,
            "max_width": null,
            "min_height": null,
            "min_width": null,
            "object_fit": null,
            "object_position": null,
            "order": null,
            "overflow": null,
            "overflow_x": null,
            "overflow_y": null,
            "padding": null,
            "right": null,
            "top": null,
            "visibility": null,
            "width": null
          }
        },
        "faeebc5ca0084d279560f20a4968b553": {
          "model_module": "@jupyter-widgets/controls",
          "model_name": "DescriptionStyleModel",
          "model_module_version": "1.5.0",
          "state": {
            "_model_module": "@jupyter-widgets/controls",
            "_model_module_version": "1.5.0",
            "_model_name": "DescriptionStyleModel",
            "_view_count": null,
            "_view_module": "@jupyter-widgets/base",
            "_view_module_version": "1.2.0",
            "_view_name": "StyleView",
            "description_width": ""
          }
        },
        "3c7c9997522a491c81d72aaef32356a2": {
          "model_module": "@jupyter-widgets/controls",
          "model_name": "BoundedFloatTextModel",
          "model_module_version": "1.5.0",
          "state": {
            "_dom_classes": [],
            "_model_module": "@jupyter-widgets/controls",
            "_model_module_version": "1.5.0",
            "_model_name": "BoundedFloatTextModel",
            "_view_count": null,
            "_view_module": "@jupyter-widgets/controls",
            "_view_module_version": "1.5.0",
            "_view_name": "FloatTextView",
            "continuous_update": false,
            "description": "Height (cm)",
            "description_tooltip": null,
            "disabled": true,
            "layout": "IPY_MODEL_f916de64eb924631b0f280627b0aecde",
            "max": 300,
            "min": 100,
            "step": null,
            "style": "IPY_MODEL_c3e62d795d4b46c695c0b0adfa24ee32",
            "value": 160
          }
        },
        "f916de64eb924631b0f280627b0aecde": {
          "model_module": "@jupyter-widgets/base",
          "model_name": "LayoutModel",
          "model_module_version": "1.2.0",
          "state": {
            "_model_module": "@jupyter-widgets/base",
            "_model_module_version": "1.2.0",
            "_model_name": "LayoutModel",
            "_view_count": null,
            "_view_module": "@jupyter-widgets/base",
            "_view_module_version": "1.2.0",
            "_view_name": "LayoutView",
            "align_content": null,
            "align_items": null,
            "align_self": null,
            "border": null,
            "bottom": null,
            "display": null,
            "flex": null,
            "flex_flow": null,
            "grid_area": null,
            "grid_auto_columns": null,
            "grid_auto_flow": null,
            "grid_auto_rows": null,
            "grid_column": null,
            "grid_gap": null,
            "grid_row": null,
            "grid_template_areas": null,
            "grid_template_columns": null,
            "grid_template_rows": null,
            "height": null,
            "justify_content": null,
            "justify_items": null,
            "left": null,
            "margin": null,
            "max_height": null,
            "max_width": null,
            "min_height": null,
            "min_width": null,
            "object_fit": null,
            "object_position": null,
            "order": null,
            "overflow": null,
            "overflow_x": null,
            "overflow_y": null,
            "padding": null,
            "right": null,
            "top": null,
            "visibility": null,
            "width": null
          }
        },
        "c3e62d795d4b46c695c0b0adfa24ee32": {
          "model_module": "@jupyter-widgets/controls",
          "model_name": "DescriptionStyleModel",
          "model_module_version": "1.5.0",
          "state": {
            "_model_module": "@jupyter-widgets/controls",
            "_model_module_version": "1.5.0",
            "_model_name": "DescriptionStyleModel",
            "_view_count": null,
            "_view_module": "@jupyter-widgets/base",
            "_view_module_version": "1.2.0",
            "_view_name": "StyleView",
            "description_width": ""
          }
        },
        "7ae98b73e6e040239d21b84a387d6b7b": {
          "model_module": "@jupyter-widgets/controls",
          "model_name": "RadioButtonsModel",
          "model_module_version": "1.5.0",
          "state": {
            "_dom_classes": [],
            "_model_module": "@jupyter-widgets/controls",
            "_model_module_version": "1.5.0",
            "_model_name": "RadioButtonsModel",
            "_options_labels": [
              "Male",
              "Female"
            ],
            "_view_count": null,
            "_view_module": "@jupyter-widgets/controls",
            "_view_module_version": "1.5.0",
            "_view_name": "RadioButtonsView",
            "description": "Gender",
            "description_tooltip": null,
            "disabled": true,
            "index": 1,
            "layout": "IPY_MODEL_1daffb4be98748509f3cfe8288eb2cde",
            "style": "IPY_MODEL_a6e7a4ae77854c9fa154a9c2997b42ff"
          }
        },
        "1daffb4be98748509f3cfe8288eb2cde": {
          "model_module": "@jupyter-widgets/base",
          "model_name": "LayoutModel",
          "model_module_version": "1.2.0",
          "state": {
            "_model_module": "@jupyter-widgets/base",
            "_model_module_version": "1.2.0",
            "_model_name": "LayoutModel",
            "_view_count": null,
            "_view_module": "@jupyter-widgets/base",
            "_view_module_version": "1.2.0",
            "_view_name": "LayoutView",
            "align_content": null,
            "align_items": null,
            "align_self": null,
            "border": null,
            "bottom": null,
            "display": null,
            "flex": null,
            "flex_flow": null,
            "grid_area": null,
            "grid_auto_columns": null,
            "grid_auto_flow": null,
            "grid_auto_rows": null,
            "grid_column": null,
            "grid_gap": null,
            "grid_row": null,
            "grid_template_areas": null,
            "grid_template_columns": null,
            "grid_template_rows": null,
            "height": null,
            "justify_content": null,
            "justify_items": null,
            "left": null,
            "margin": null,
            "max_height": null,
            "max_width": null,
            "min_height": null,
            "min_width": null,
            "object_fit": null,
            "object_position": null,
            "order": null,
            "overflow": null,
            "overflow_x": null,
            "overflow_y": null,
            "padding": null,
            "right": null,
            "top": null,
            "visibility": null,
            "width": null
          }
        },
        "a6e7a4ae77854c9fa154a9c2997b42ff": {
          "model_module": "@jupyter-widgets/controls",
          "model_name": "DescriptionStyleModel",
          "model_module_version": "1.5.0",
          "state": {
            "_model_module": "@jupyter-widgets/controls",
            "_model_module_version": "1.5.0",
            "_model_name": "DescriptionStyleModel",
            "_view_count": null,
            "_view_module": "@jupyter-widgets/base",
            "_view_module_version": "1.2.0",
            "_view_name": "StyleView",
            "description_width": ""
          }
        },
        "ee96940438aa4c85a611d03a211d64fe": {
          "model_module": "@jupyter-widgets/controls",
          "model_name": "DatePickerModel",
          "model_module_version": "1.5.0",
          "state": {
            "_dom_classes": [],
            "_model_module": "@jupyter-widgets/controls",
            "_model_module_version": "1.5.0",
            "_model_name": "DatePickerModel",
            "_view_count": null,
            "_view_module": "@jupyter-widgets/controls",
            "_view_module_version": "1.5.0",
            "_view_name": "DatePickerView",
            "description": "Date of Birth",
            "description_tooltip": null,
            "disabled": true,
            "layout": "IPY_MODEL_5af6e6ecd31c402689f420ccc5cc5845",
            "style": "IPY_MODEL_4223f9aa272942a490e8881a3710ec42",
            "value": {
              "year": 2009,
              "month": 1,
              "date": 2
            }
          }
        },
        "5af6e6ecd31c402689f420ccc5cc5845": {
          "model_module": "@jupyter-widgets/base",
          "model_name": "LayoutModel",
          "model_module_version": "1.2.0",
          "state": {
            "_model_module": "@jupyter-widgets/base",
            "_model_module_version": "1.2.0",
            "_model_name": "LayoutModel",
            "_view_count": null,
            "_view_module": "@jupyter-widgets/base",
            "_view_module_version": "1.2.0",
            "_view_name": "LayoutView",
            "align_content": null,
            "align_items": null,
            "align_self": null,
            "border": null,
            "bottom": null,
            "display": null,
            "flex": null,
            "flex_flow": null,
            "grid_area": null,
            "grid_auto_columns": null,
            "grid_auto_flow": null,
            "grid_auto_rows": null,
            "grid_column": null,
            "grid_gap": null,
            "grid_row": null,
            "grid_template_areas": null,
            "grid_template_columns": null,
            "grid_template_rows": null,
            "height": null,
            "justify_content": null,
            "justify_items": null,
            "left": null,
            "margin": null,
            "max_height": null,
            "max_width": null,
            "min_height": null,
            "min_width": null,
            "object_fit": null,
            "object_position": null,
            "order": null,
            "overflow": null,
            "overflow_x": null,
            "overflow_y": null,
            "padding": null,
            "right": null,
            "top": null,
            "visibility": null,
            "width": null
          }
        },
        "4223f9aa272942a490e8881a3710ec42": {
          "model_module": "@jupyter-widgets/controls",
          "model_name": "DescriptionStyleModel",
          "model_module_version": "1.5.0",
          "state": {
            "_model_module": "@jupyter-widgets/controls",
            "_model_module_version": "1.5.0",
            "_model_name": "DescriptionStyleModel",
            "_view_count": null,
            "_view_module": "@jupyter-widgets/base",
            "_view_module_version": "1.2.0",
            "_view_name": "StyleView",
            "description_width": ""
          }
        },
        "f6356e72a46e4969bddb1a16f53d4864": {
          "model_module": "@jupyter-widgets/controls",
          "model_name": "ButtonModel",
          "model_module_version": "1.5.0",
          "state": {
            "_dom_classes": [],
            "_model_module": "@jupyter-widgets/controls",
            "_model_module_version": "1.5.0",
            "_model_name": "ButtonModel",
            "_view_count": null,
            "_view_module": "@jupyter-widgets/controls",
            "_view_module_version": "1.5.0",
            "_view_name": "ButtonView",
            "button_style": "",
            "description": "Submit",
            "disabled": true,
            "icon": "",
            "layout": "IPY_MODEL_a07f19844929488a82ed192ea869e2b1",
            "style": "IPY_MODEL_746f346776064cd499264fe5ae8cd34b",
            "tooltip": ""
          }
        },
        "a07f19844929488a82ed192ea869e2b1": {
          "model_module": "@jupyter-widgets/base",
          "model_name": "LayoutModel",
          "model_module_version": "1.2.0",
          "state": {
            "_model_module": "@jupyter-widgets/base",
            "_model_module_version": "1.2.0",
            "_model_name": "LayoutModel",
            "_view_count": null,
            "_view_module": "@jupyter-widgets/base",
            "_view_module_version": "1.2.0",
            "_view_name": "LayoutView",
            "align_content": null,
            "align_items": null,
            "align_self": null,
            "border": null,
            "bottom": null,
            "display": null,
            "flex": null,
            "flex_flow": null,
            "grid_area": null,
            "grid_auto_columns": null,
            "grid_auto_flow": null,
            "grid_auto_rows": null,
            "grid_column": null,
            "grid_gap": null,
            "grid_row": null,
            "grid_template_areas": null,
            "grid_template_columns": null,
            "grid_template_rows": null,
            "height": null,
            "justify_content": null,
            "justify_items": null,
            "left": null,
            "margin": null,
            "max_height": null,
            "max_width": null,
            "min_height": null,
            "min_width": null,
            "object_fit": null,
            "object_position": null,
            "order": null,
            "overflow": null,
            "overflow_x": null,
            "overflow_y": null,
            "padding": null,
            "right": null,
            "top": null,
            "visibility": null,
            "width": null
          }
        },
        "746f346776064cd499264fe5ae8cd34b": {
          "model_module": "@jupyter-widgets/controls",
          "model_name": "ButtonStyleModel",
          "model_module_version": "1.5.0",
          "state": {
            "_model_module": "@jupyter-widgets/controls",
            "_model_module_version": "1.5.0",
            "_model_name": "ButtonStyleModel",
            "_view_count": null,
            "_view_module": "@jupyter-widgets/base",
            "_view_module_version": "1.2.0",
            "_view_name": "StyleView",
            "button_color": null,
            "font_weight": ""
          }
        },
        "63153f9dac184b26a73b274c45302c44": {
          "model_module": "@jupyter-widgets/controls",
          "model_name": "ButtonModel",
          "model_module_version": "1.5.0",
          "state": {
            "_dom_classes": [],
            "_model_module": "@jupyter-widgets/controls",
            "_model_module_version": "1.5.0",
            "_model_name": "ButtonModel",
            "_view_count": null,
            "_view_module": "@jupyter-widgets/controls",
            "_view_module_version": "1.5.0",
            "_view_name": "ButtonView",
            "button_style": "",
            "description": "Edit",
            "disabled": false,
            "icon": "",
            "layout": "IPY_MODEL_4745cbebdd9a44de82ca3806293c5b6d",
            "style": "IPY_MODEL_f406c75572214e90a804f46bbd01d194",
            "tooltip": ""
          }
        },
        "4745cbebdd9a44de82ca3806293c5b6d": {
          "model_module": "@jupyter-widgets/base",
          "model_name": "LayoutModel",
          "model_module_version": "1.2.0",
          "state": {
            "_model_module": "@jupyter-widgets/base",
            "_model_module_version": "1.2.0",
            "_model_name": "LayoutModel",
            "_view_count": null,
            "_view_module": "@jupyter-widgets/base",
            "_view_module_version": "1.2.0",
            "_view_name": "LayoutView",
            "align_content": null,
            "align_items": null,
            "align_self": null,
            "border": null,
            "bottom": null,
            "display": null,
            "flex": null,
            "flex_flow": null,
            "grid_area": null,
            "grid_auto_columns": null,
            "grid_auto_flow": null,
            "grid_auto_rows": null,
            "grid_column": null,
            "grid_gap": null,
            "grid_row": null,
            "grid_template_areas": null,
            "grid_template_columns": null,
            "grid_template_rows": null,
            "height": null,
            "justify_content": null,
            "justify_items": null,
            "left": null,
            "margin": null,
            "max_height": null,
            "max_width": null,
            "min_height": null,
            "min_width": null,
            "object_fit": null,
            "object_position": null,
            "order": null,
            "overflow": null,
            "overflow_x": null,
            "overflow_y": null,
            "padding": null,
            "right": null,
            "top": null,
            "visibility": null,
            "width": null
          }
        },
        "f406c75572214e90a804f46bbd01d194": {
          "model_module": "@jupyter-widgets/controls",
          "model_name": "ButtonStyleModel",
          "model_module_version": "1.5.0",
          "state": {
            "_model_module": "@jupyter-widgets/controls",
            "_model_module_version": "1.5.0",
            "_model_name": "ButtonStyleModel",
            "_view_count": null,
            "_view_module": "@jupyter-widgets/base",
            "_view_module_version": "1.2.0",
            "_view_name": "StyleView",
            "button_color": null,
            "font_weight": ""
          }
        },
        "28271ff7d85c4beeaecff94427031568": {
          "model_module": "@jupyter-widgets/controls",
          "model_name": "ButtonModel",
          "model_module_version": "1.5.0",
          "state": {
            "_dom_classes": [],
            "_model_module": "@jupyter-widgets/controls",
            "_model_module_version": "1.5.0",
            "_model_name": "ButtonModel",
            "_view_count": null,
            "_view_module": "@jupyter-widgets/controls",
            "_view_module_version": "1.5.0",
            "_view_name": "ButtonView",
            "button_style": "",
            "description": "Compare to others",
            "disabled": false,
            "icon": "",
            "layout": "IPY_MODEL_4e898d8a2d684344b3b5e0f2a858fbe4",
            "style": "IPY_MODEL_2300def345b7450fbbaf47492ab8f2d5",
            "tooltip": ""
          }
        },
        "4e898d8a2d684344b3b5e0f2a858fbe4": {
          "model_module": "@jupyter-widgets/base",
          "model_name": "LayoutModel",
          "model_module_version": "1.2.0",
          "state": {
            "_model_module": "@jupyter-widgets/base",
            "_model_module_version": "1.2.0",
            "_model_name": "LayoutModel",
            "_view_count": null,
            "_view_module": "@jupyter-widgets/base",
            "_view_module_version": "1.2.0",
            "_view_name": "LayoutView",
            "align_content": null,
            "align_items": null,
            "align_self": null,
            "border": null,
            "bottom": null,
            "display": null,
            "flex": null,
            "flex_flow": null,
            "grid_area": null,
            "grid_auto_columns": null,
            "grid_auto_flow": null,
            "grid_auto_rows": null,
            "grid_column": null,
            "grid_gap": null,
            "grid_row": null,
            "grid_template_areas": null,
            "grid_template_columns": null,
            "grid_template_rows": null,
            "height": null,
            "justify_content": null,
            "justify_items": null,
            "left": null,
            "margin": null,
            "max_height": null,
            "max_width": null,
            "min_height": null,
            "min_width": null,
            "object_fit": null,
            "object_position": null,
            "order": null,
            "overflow": null,
            "overflow_x": null,
            "overflow_y": null,
            "padding": null,
            "right": null,
            "top": null,
            "visibility": null,
            "width": null
          }
        },
        "2300def345b7450fbbaf47492ab8f2d5": {
          "model_module": "@jupyter-widgets/controls",
          "model_name": "ButtonStyleModel",
          "model_module_version": "1.5.0",
          "state": {
            "_model_module": "@jupyter-widgets/controls",
            "_model_module_version": "1.5.0",
            "_model_name": "ButtonStyleModel",
            "_view_count": null,
            "_view_module": "@jupyter-widgets/base",
            "_view_module_version": "1.2.0",
            "_view_name": "StyleView",
            "button_color": null,
            "font_weight": ""
          }
        }
      }
    }
  },
  "cells": [
    {
      "cell_type": "markdown",
      "metadata": {
        "id": "view-in-github",
        "colab_type": "text"
      },
      "source": [
        "<a href=\"https://colab.research.google.com/github/Informathiques/2024-Autumn-Cluj-Napoca/blob/main/helloWorld.ipynb\" target=\"_parent\"><img src=\"https://colab.research.google.com/assets/colab-badge.svg\" alt=\"Open In Colab\"/></a>"
      ]
    },
    {
      "cell_type": "markdown",
      "source": [
        "# This is a service part, please simply run it"
      ],
      "metadata": {
        "id": "_6O6j6V2cxdS"
      }
    },
    {
      "cell_type": "code",
      "source": [
        "!pip install pymongo[srv]"
      ],
      "metadata": {
        "id": "ur_apzAdN7Ei",
        "colab": {
          "base_uri": "https://localhost:8080/"
        },
        "outputId": "8d41ed11-fa27-4aa8-83e5-809cc75f75f1"
      },
      "execution_count": 17,
      "outputs": [
        {
          "output_type": "stream",
          "name": "stdout",
          "text": [
            "Collecting pymongo[srv]\n",
            "  Downloading pymongo-4.10.1-cp310-cp310-manylinux_2_17_x86_64.manylinux2014_x86_64.whl.metadata (22 kB)\n",
            "\u001b[33mWARNING: pymongo 4.10.1 does not provide the extra 'srv'\u001b[0m\u001b[33m\n",
            "\u001b[0mCollecting dnspython<3.0.0,>=1.16.0 (from pymongo[srv])\n",
            "  Downloading dnspython-2.7.0-py3-none-any.whl.metadata (5.8 kB)\n",
            "Downloading dnspython-2.7.0-py3-none-any.whl (313 kB)\n",
            "\u001b[2K   \u001b[90m━━━━━━━━━━━━━━━━━━━━━━━━━━━━━━━━━━━━━━━━\u001b[0m \u001b[32m313.6/313.6 kB\u001b[0m \u001b[31m6.0 MB/s\u001b[0m eta \u001b[36m0:00:00\u001b[0m\n",
            "\u001b[?25hDownloading pymongo-4.10.1-cp310-cp310-manylinux_2_17_x86_64.manylinux2014_x86_64.whl (1.4 MB)\n",
            "\u001b[2K   \u001b[90m━━━━━━━━━━━━━━━━━━━━━━━━━━━━━━━━━━━━━━━━\u001b[0m \u001b[32m1.4/1.4 MB\u001b[0m \u001b[31m30.7 MB/s\u001b[0m eta \u001b[36m0:00:00\u001b[0m\n",
            "\u001b[?25hInstalling collected packages: dnspython, pymongo\n",
            "Successfully installed dnspython-2.7.0 pymongo-4.10.1\n"
          ]
        }
      ]
    },
    {
      "cell_type": "code",
      "source": [
        "from google.colab import userdata\n",
        "\n",
        "import os\n",
        "import base64\n",
        "\n",
        "# Base64-encoded MongoDB URI (fallback option)\n",
        "encoded_uri = \"bW9uZ29kYitzcnY6Ly9pbmZyb21hdGhpcXVlczpkRk91WTZYaWFRNjhxeE5KQGluZm9ybWF0aGlxdWVzLjgzanFlLm1vbmdvZGIubmV0Lz9yZXRyeVdyaXRlcz10cnVlJnc9bWFqb3JpdHkmc3NsPXRydWUmdGxzQWxsb3dJbnZhbGlkQ2VydGlmaWNhdGVzPXRydWU=\"\n",
        "\n",
        "# Step 1: Try to get the MongoDB URI from the environment variable (SMONGO_URI)\n",
        "try:\n",
        "    MONGO_URI = os.getenv(\"SMONGO_URI\")\n",
        "    if not MONGO_URI:\n",
        "        raise ValueError(\"SMONGO_URI not found or is empty.\")\n",
        "except (KeyError, ValueError, Exception) as e:\n",
        "    print(f\"Environment variable 'SMONGO_URI' is missing or cannot be accessed: {e}\")\n",
        "    print(\"Falling back to the base64-encoded URI...\")\n",
        "    # Step 2: Decode the base64-encoded URI as fallback\n",
        "    MONGO_URI = base64.b64decode(encoded_uri).decode('utf-8')\n",
        "\n",
        "\n"
      ],
      "metadata": {
        "colab": {
          "base_uri": "https://localhost:8080/"
        },
        "id": "zGUr1ECOF4-V",
        "outputId": "07d93738-48f4-4dfc-a184-90a2128d1d6c"
      },
      "execution_count": 18,
      "outputs": [
        {
          "output_type": "stream",
          "name": "stdout",
          "text": [
            "Environment variable 'SMONGO_URI' is missing or cannot be accessed: SMONGO_URI not found or is empty.\n",
            "Falling back to the base64-encoded URI...\n"
          ]
        }
      ]
    },
    {
      "cell_type": "markdown",
      "source": [
        "# This part of the code will ask you to enter some data about you"
      ],
      "metadata": {
        "id": "9zZkz-12c6Z6"
      }
    },
    {
      "cell_type": "code",
      "execution_count": 19,
      "metadata": {
        "colab": {
          "base_uri": "https://localhost:8080/",
          "height": 282,
          "referenced_widgets": [
            "6298a5209da740a5994534faa4b3fc14",
            "ba2e8992d4d74bdcbd68780204828f5e",
            "fe931069aff74a99b4dc8b9411b402ae",
            "08fd916d15d844409dd1915987f54ed5",
            "a6ba28470ff44b5f9776fb9b2f67b930",
            "faeebc5ca0084d279560f20a4968b553",
            "3c7c9997522a491c81d72aaef32356a2",
            "f916de64eb924631b0f280627b0aecde",
            "c3e62d795d4b46c695c0b0adfa24ee32",
            "7ae98b73e6e040239d21b84a387d6b7b",
            "1daffb4be98748509f3cfe8288eb2cde",
            "a6e7a4ae77854c9fa154a9c2997b42ff",
            "ee96940438aa4c85a611d03a211d64fe",
            "5af6e6ecd31c402689f420ccc5cc5845",
            "4223f9aa272942a490e8881a3710ec42",
            "f6356e72a46e4969bddb1a16f53d4864",
            "a07f19844929488a82ed192ea869e2b1",
            "746f346776064cd499264fe5ae8cd34b",
            "63153f9dac184b26a73b274c45302c44",
            "4745cbebdd9a44de82ca3806293c5b6d",
            "f406c75572214e90a804f46bbd01d194"
          ]
        },
        "id": "DnF46k-CSh5b",
        "outputId": "92ef6858-a73e-43fe-80f5-eec76cd77ace"
      },
      "outputs": [
        {
          "output_type": "display_data",
          "data": {
            "text/plain": [
              "Text(value='', description='First Name')"
            ],
            "application/vnd.jupyter.widget-view+json": {
              "version_major": 2,
              "version_minor": 0,
              "model_id": "6298a5209da740a5994534faa4b3fc14"
            }
          },
          "metadata": {}
        },
        {
          "output_type": "display_data",
          "data": {
            "text/plain": [
              "Text(value='', description='Second Name')"
            ],
            "application/vnd.jupyter.widget-view+json": {
              "version_major": 2,
              "version_minor": 0,
              "model_id": "08fd916d15d844409dd1915987f54ed5"
            }
          },
          "metadata": {}
        },
        {
          "output_type": "display_data",
          "data": {
            "text/plain": [
              "BoundedFloatText(value=150.0, description='Height (cm)', max=300.0, min=100.0)"
            ],
            "application/vnd.jupyter.widget-view+json": {
              "version_major": 2,
              "version_minor": 0,
              "model_id": "3c7c9997522a491c81d72aaef32356a2"
            }
          },
          "metadata": {}
        },
        {
          "output_type": "display_data",
          "data": {
            "text/plain": [
              "RadioButtons(description='Gender', options=('Male', 'Female'), value='Male')"
            ],
            "application/vnd.jupyter.widget-view+json": {
              "version_major": 2,
              "version_minor": 0,
              "model_id": "7ae98b73e6e040239d21b84a387d6b7b"
            }
          },
          "metadata": {}
        },
        {
          "output_type": "display_data",
          "data": {
            "text/plain": [
              "DatePicker(value=None, description='Date of Birth')"
            ],
            "application/vnd.jupyter.widget-view+json": {
              "version_major": 2,
              "version_minor": 0,
              "model_id": "ee96940438aa4c85a611d03a211d64fe"
            }
          },
          "metadata": {}
        },
        {
          "output_type": "display_data",
          "data": {
            "text/plain": [
              "Button(description='Submit', style=ButtonStyle())"
            ],
            "application/vnd.jupyter.widget-view+json": {
              "version_major": 2,
              "version_minor": 0,
              "model_id": "f6356e72a46e4969bddb1a16f53d4864"
            }
          },
          "metadata": {}
        },
        {
          "output_type": "display_data",
          "data": {
            "text/plain": [
              "Button(description='Edit', disabled=True, style=ButtonStyle())"
            ],
            "application/vnd.jupyter.widget-view+json": {
              "version_major": 2,
              "version_minor": 0,
              "model_id": "63153f9dac184b26a73b274c45302c44"
            }
          },
          "metadata": {}
        },
        {
          "output_type": "stream",
          "name": "stdout",
          "text": [
            "User Testoid TESTARIUS added to the database.\n"
          ]
        }
      ],
      "source": [
        "#import pymongo\n",
        "from pymongo import MongoClient\n",
        "import ipywidgets as widgets\n",
        "from IPython.display import display, clear_output\n",
        "from datetime import datetime\n",
        "\n",
        "# MongoDB connection (Replace with your connection string)\n",
        "#MONGO_URI = \"mongodb+srv://<username>:<password>@cluster0.mongodb.net/myDatabase?retryWrites=true&w=majority\"\n",
        "client = MongoClient(MONGO_URI)\n",
        "db = client[\"myDatabase\"]  # Database name\n",
        "collection = db[\"users\"]  # Collection name\n",
        "\n",
        "# Global variable to store current user ID for editing\n",
        "current_user_id = None\n",
        "\n",
        "# Function to add or update user in MongoDB\n",
        "def add_or_update_user(first_name, second_name, height, gender, dob):\n",
        "    global current_user_id\n",
        "    # Convert the Date of Birth to datetime\n",
        "    dob_datetime = datetime.combine(dob, datetime.min.time()) if dob else None\n",
        "\n",
        "    user_data = {\n",
        "        \"First Name\": first_name,\n",
        "        \"Second Name\": second_name,\n",
        "        \"Height\": height,\n",
        "        \"Gender\": gender,\n",
        "        \"Date of Birth\": dob_datetime\n",
        "    }\n",
        "\n",
        "    if current_user_id is None:\n",
        "        # Insert new user\n",
        "        result = collection.insert_one(user_data)\n",
        "        current_user_id = result.inserted_id\n",
        "        print(f\"User {first_name} {second_name} added to the database.\")\n",
        "    else:\n",
        "        # Update existing user\n",
        "        collection.update_one({\"_id\": current_user_id}, {\"$set\": user_data})\n",
        "        print(f\"User {first_name} {second_name}'s data updated in the database.\")\n",
        "\n",
        "# Function to handle the submit action\n",
        "def on_submit(b):\n",
        "    global current_user_id\n",
        "    first_name = first_name_input.value\n",
        "    second_name = second_name_input.value\n",
        "    height = int(height_input.value)\n",
        "    gender = gender_input.value\n",
        "    dob = dob_input.value\n",
        "\n",
        "    # Insert or update the user data in MongoDB\n",
        "    add_or_update_user(first_name, second_name, height, gender, dob)\n",
        "\n",
        "    # Disable fields and activate edit button\n",
        "    first_name_input.disabled = True\n",
        "    second_name_input.disabled = True\n",
        "    height_input.disabled = True\n",
        "    gender_input.disabled = True\n",
        "    dob_input.disabled = True\n",
        "    submit_button.disabled = True\n",
        "    edit_button.disabled = False\n",
        "\n",
        "# Function to handle the edit action\n",
        "def on_edit(b):\n",
        "    # Enable fields and disable edit button\n",
        "    first_name_input.disabled = False\n",
        "    second_name_input.disabled = False\n",
        "    height_input.disabled = False\n",
        "    gender_input.disabled = False\n",
        "    dob_input.disabled = False\n",
        "    submit_button.disabled = False\n",
        "    edit_button.disabled = True\n",
        "\n",
        "# Create input fields with initial disabled state for edit button\n",
        "first_name_input = widgets.Text(description=\"First Name\")\n",
        "second_name_input = widgets.Text(description=\"Second Name\")\n",
        "height_input = widgets.BoundedFloatText(value=150, min=100, max=300, description=\"Height (cm)\")\n",
        "gender_input = widgets.RadioButtons(\n",
        "    options=['Male', 'Female'],\n",
        "    value='Male',  # Default value\n",
        "    description='Gender'\n",
        ")\n",
        "dob_input = widgets.DatePicker(description='Date of Birth')\n",
        "\n",
        "submit_button = widgets.Button(description=\"Submit\")\n",
        "edit_button = widgets.Button(description=\"Edit\", disabled=True)\n",
        "\n",
        "# Attach button event handlers\n",
        "submit_button.on_click(on_submit)\n",
        "edit_button.on_click(on_edit)\n",
        "\n",
        "###\n",
        "\n",
        "# Display the widgets\n",
        "display(first_name_input, second_name_input, height_input, gender_input, dob_input, submit_button, edit_button)\n"
      ]
    },
    {
      "cell_type": "markdown",
      "source": [
        "# This part will provide the data about the others"
      ],
      "metadata": {
        "id": "bjC-agIRLXO7"
      }
    },
    {
      "cell_type": "code",
      "source": [
        "import matplotlib.pyplot as plt\n",
        "import ipywidgets as widgets\n",
        "from IPython.display import display, clear_output\n",
        "\n",
        "# Function to fetch data from MongoDB and return it as a list\n",
        "def fetch_users_data():\n",
        "    users = collection.find()\n",
        "    users_data = []\n",
        "    for user in users:\n",
        "        users_data.append({\n",
        "            'First Name': user['First Name'],\n",
        "            'Second Name': user['Second Name'],\n",
        "            'Height': user['Height']\n",
        "        })\n",
        "    return users_data\n",
        "\n",
        "# Function to update the plot with data fetched from MongoDB\n",
        "def update_plot():\n",
        "    users_data = fetch_users_data()\n",
        "    if users_data:\n",
        "        first_names = [f\"{user['First Name']} {user['Second Name']}\" for user in users_data]\n",
        "        heights = [user['Height'] for user in users_data]\n",
        "\n",
        "        plt.figure(figsize=(8,6))\n",
        "        plt.bar(first_names, heights, color='skyblue')\n",
        "        plt.xlabel('Full Name')\n",
        "        plt.ylabel('Height (cm)')\n",
        "        plt.title('User Heights')\n",
        "        plt.xticks(rotation=45)\n",
        "        plt.show()\n",
        "\n",
        "# Function to handle the 'Compare to others' button click\n",
        "def on_compare(b):\n",
        "    clear_output(wait=True)\n",
        "    update_plot()\n",
        "\n",
        "# Create the 'Compare to others' button\n",
        "compare_button = widgets.Button(description=\"Compare to others\")\n",
        "\n",
        "# Attach the event handler to the button\n",
        "compare_button.on_click(on_compare)\n",
        "\n",
        "# Display the button\n",
        "display(compare_button)\n"
      ],
      "metadata": {
        "colab": {
          "base_uri": "https://localhost:8080/",
          "height": 591,
          "referenced_widgets": [
            "28271ff7d85c4beeaecff94427031568",
            "4e898d8a2d684344b3b5e0f2a858fbe4",
            "2300def345b7450fbbaf47492ab8f2d5"
          ]
        },
        "id": "0qcGMjgkbeqh",
        "outputId": "81b15a8c-745d-4472-9b2c-592083860d84"
      },
      "execution_count": 20,
      "outputs": [
        {
          "output_type": "display_data",
          "data": {
            "text/plain": [
              "<Figure size 800x600 with 1 Axes>"
            ],
            "image/png": "[encoded data removed]"
          },
          "metadata": {}
        }
      ]
    },
    {
      "cell_type": "markdown",
      "source": [
        "# World Health Organization comparing"
      ],
      "metadata": {
        "id": "pNSJwXQXLw3k"
      }
    },
    {
      "cell_type": "code",
      "source": [
        "import requests\n",
        "import pandas as pd\n",
        "import matplotlib.pyplot as plt\n",
        "\n",
        "\n",
        "\n",
        "# Calculate the difference in years and months\n",
        "def calculate_age_in_months(dob, current_date):\n",
        "    years_diff = current_date.year - dob.year\n",
        "    months_diff = current_date.month - dob.month\n",
        "\n",
        "    # Adjust for the case where the current month is before the birth month\n",
        "    if months_diff < 0:\n",
        "        years_diff -= 1\n",
        "        months_diff += 12\n",
        "\n",
        "    # Total months\n",
        "    total_months = years_diff * 12 + months_diff\n",
        "    return total_months\n",
        "\n",
        "\n",
        "\n",
        "# URLs for boys and girls height data\n",
        "boys_url = \"https://cdn.who.int/media/docs/default-source/child-growth/growth-reference-5-19-years/height-for-age-(5-19-years)/hfa-boys-z-who-2007-exp.xlsx?sfvrsn=7fa263d_2\"\n",
        "girls_url = \"https://cdn.who.int/media/docs/default-source/child-growth/growth-reference-5-19-years/height-for-age-(5-19-years)/hfa-girls-z-who-2007-exp.xlsx?sfvrsn=79d310ee_2\"\n",
        "\n",
        "# Gender input value from the first part of the form (Male or Female)\n",
        "user_gender = gender_input.value  # Assuming this comes from the form\n",
        "custom_label_uname = f\"{first_name_input.value} {second_name_input.value} 's data\"\n",
        "# Step 1: Choose the appropriate URL based on gender\n",
        "if user_gender == \"Male\":\n",
        "    url = boys_url\n",
        "    custom_title='Height vs. Age for Boys: 5 to 19 years'\n",
        "elif user_gender == \"Female\":\n",
        "    url = girls_url\n",
        "    custom_title='Height vs. Age for Girls: 5 to 19 years'\n",
        "else:\n",
        "    raise ValueError(\"Invalid gender selected. Please select either Male or Female.\")\n",
        "\n",
        "response = requests.get(url)\n",
        "\n",
        "# Step 2: Download the file from the chosen URL\n",
        "response = requests.get(url)\n",
        "\n",
        "# Step 3: Save the file locally\n",
        "file_name = \"height_for_age_data.xlsx\"\n",
        "with open(file_name, \"wb\") as file:\n",
        "    file.write(response.content)\n",
        "\n",
        "# Step 4: Read the Excel file into a DataFrame, skipping the first row\n",
        "df = pd.read_excel(file_name)\n",
        "\n",
        "# Step 5: Plot 'M' (height) on the Y-axis and 'Month/12' (age in years) on the X-axis\n",
        "x_values = df['Month']/12  # Convert age in months to years\n",
        "y_values1 = df['SD1neg']  # Height values\n",
        "y_values2 = df['SD0']  # Height values\n",
        "y_values3 = df['SD1']  # Height values\n",
        "\n",
        "# Step 6: Plot the data from the DataFrame\n",
        "plt.figure(figsize=(10, 6))\n",
        "plt.plot(x_values, y_values1, label='Height vs. Age Mean - SD', color='green')\n",
        "plt.plot(x_values, y_values2, label='Height vs. Age Mean', color='blue')\n",
        "plt.plot(x_values, y_values3, label='Height vs. Age + SD', color='green')\n",
        "\n",
        "# Step 7: Plot the current user's height as a dot\n",
        "current_user_height = height_input.value  # Replace with the actual height value of the current user\n",
        "# Calculate the age in months\n",
        "dob = dob_input.value  # Retrieve the date from the DatePicker widget\n",
        "# Get the current date\n",
        "current_date = datetime.today().date()\n",
        "age_in_months = calculate_age_in_months(dob, current_date)\n",
        "current_user_age = age_in_months/12  # Replace with the actual age of the current user in years\n",
        "plt.scatter(current_user_age, current_user_height, color='red', label=custom_label_uname)\n",
        "\n",
        "# Step 8: Labels, Title, and Legends\n",
        "plt.xlabel('Age (Years)')\n",
        "plt.ylabel('Height (M)')\n",
        "plt.title(custom_title)\n",
        "plt.legend()\n",
        "\n",
        "# Display the plot\n",
        "plt.show()\n",
        "\n",
        "\n"
      ],
      "metadata": {
        "colab": {
          "base_uri": "https://localhost:8080/",
          "height": 422
        },
        "id": "0cEdFhZJRYy7",
        "outputId": "0e5236a0-3533-4039-9f3e-55865cb2c676"
      },
      "execution_count": 21,
      "outputs": [
        {
          "output_type": "display_data",
          "data": {
            "text/plain": [
              "<Figure size 1000x600 with 1 Axes>"
            ],
            "image/png": "[encoded data removed]"
          },
          "metadata": {}
        }
      ]
    }
  ]
}